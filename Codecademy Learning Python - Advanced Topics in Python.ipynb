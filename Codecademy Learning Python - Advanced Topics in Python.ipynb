{
 "cells": [
  {
   "cell_type": "markdown",
   "metadata": {},
   "source": [
    "## Iterators for Dictionaries\n",
    "Let’s start with iterating over a dictionary. Recall that a dictionary is just a collection of keys and values."
   ]
  },
  {
   "cell_type": "code",
   "execution_count": 2,
   "metadata": {},
   "outputs": [
    {
     "name": "stdout",
     "output_type": "stream",
     "text": [
      "dict_items([('Name', 'Guido'), ('Age', 56), ('BDFL', True)])\n"
     ]
    }
   ],
   "source": [
    "d = {\n",
    "  \"Name\": \"Guido\",\n",
    "  \"Age\": 56,\n",
    "  \"BDFL\": True\n",
    "}\n",
    "print (d.items())\n",
    "# => [('BDFL', True), ('Age', 56), ('Name', 'Guido')]"
   ]
  },
  {
   "cell_type": "markdown",
   "metadata": {},
   "source": [
    "Note that the .items() method doesn’t return key/value pairs in any specific order.\n",
    "\n",
    "### Instructions\n",
    "1. Create your own Python dictionary, my_dict, in the editor to the right with two or three key/value pairs.\n",
    "\n",
    "Then, print the result of calling the my_dict.items()."
   ]
  },
  {
   "cell_type": "code",
   "execution_count": 4,
   "metadata": {},
   "outputs": [
    {
     "name": "stdout",
     "output_type": "stream",
     "text": [
      "dict_items([('Name', 'Steve'), ('Age', 33), ('Cool Dude', 'Debatable')])\n"
     ]
    }
   ],
   "source": [
    "my_dict = {'Name': 'Steve',\n",
    "          'Age': 33,\n",
    "          'Cool Dude': 'Debatable'\n",
    "          }\n",
    "\n",
    "print (my_dict.items())"
   ]
  },
  {
   "cell_type": "markdown",
   "metadata": {},
   "source": [
    "## keys() and values()\n",
    "While .items() returns an array of tuples with each tuple consisting of a key/value pair from the dictionary:\n",
    "\n",
    "The .keys() method returns a list of the dictionary’s keys, and\n",
    "The .values() method returns a list of the dictionary’s values.\n",
    "Again, these methods will not return the keys or values from the dictionary in any specific order.\n",
    "\n",
    "You can think of a tuple as an immutable (that is, unchangeable) list. Tuples are surrounded by ()s and can contain any data type.\n",
    "\n",
    "### Instructions\n",
    "1. Remove your call to .items() and replace it with a call to .keys() and a call to .values(), each on its own line. Make sure to print both!"
   ]
  },
  {
   "cell_type": "code",
   "execution_count": 5,
   "metadata": {},
   "outputs": [
    {
     "name": "stdout",
     "output_type": "stream",
     "text": [
      "dict_keys(['Name', 'Age', 'Cool Dude'])\n",
      "dict_values(['Steve', 33, 'Debatable'])\n"
     ]
    }
   ],
   "source": [
    "print (my_dict.keys())\n",
    "print (my_dict.values())"
   ]
  },
  {
   "cell_type": "markdown",
   "metadata": {},
   "source": [
    "## The 'in' Operator\n",
    "For iterating over lists, tuples, dictionaries, and strings, Python also includes a special keyword: in. You can use in very intuitively, like so:"
   ]
  },
  {
   "cell_type": "code",
   "execution_count": 1,
   "metadata": {},
   "outputs": [
    {
     "name": "stdout",
     "output_type": "stream",
     "text": [
      "0\n",
      "1\n",
      "2\n",
      "3\n",
      "4\n",
      "name Eric\n",
      "age 26\n",
      "E\n",
      "r\n",
      "i\n",
      "c\n"
     ]
    }
   ],
   "source": [
    "for number in range(5):\n",
    "  print (number)\n",
    "\n",
    "d = { \n",
    "  \"name\": \"Eric\",\n",
    "  \"age\": 26\n",
    "}\n",
    "\n",
    "for key in d:\n",
    "  print (key, d[key])\n",
    "\n",
    "for letter in \"Eric\":\n",
    "  print (letter) "
   ]
  },
  {
   "cell_type": "markdown",
   "metadata": {},
   "source": [
    "In the example above, first we create and iterate through a range, printing out 0 1 2 3 4. \n",
    "\n",
    "Next, we create a dictionary and iterate through, printing out age 26 name Eric. Dictionaries have no specific order.\n",
    "Finally, we iterate through the letters of a string, printing out E r i c.\n",
    "\n",
    "Instructions\n",
    "1. For each key in my_dict: print out the key , then a space, then the value stored by that key. (You should use print a, b rather than print a + \" \" + b.)"
   ]
  },
  {
   "cell_type": "code",
   "execution_count": 10,
   "metadata": {},
   "outputs": [
    {
     "name": "stdout",
     "output_type": "stream",
     "text": [
      "Name Steve\n",
      "Age 33\n",
      "Cool Dude Debatable\n"
     ]
    }
   ],
   "source": [
    "for key in my_dict:\n",
    "    print (key, my_dict[key])"
   ]
  },
  {
   "cell_type": "markdown",
   "metadata": {},
   "source": [
    "## Building Lists\n",
    "Let’s say you wanted to build a list of the numbers from 0 to 50 (inclusive). We could do this pretty easily:\n",
    "\n",
    "my_list = range(51)\n",
    "But what if we wanted to generate a list according to some logic—for example, a list of all the even numbers from 0 to 50?\n",
    "\n",
    "Python’s answer to this is the list comprehension. List comprehensions are a powerful way to generate lists using the for/in and if keywords we’ve learned.\n",
    "\n",
    "### Instructions\n",
    "1. Check out the list comprehension example in the editor. When you’re pretty sure you know what it’ll do, click Run to see it in action."
   ]
  },
  {
   "cell_type": "code",
   "execution_count": 11,
   "metadata": {},
   "outputs": [
    {
     "name": "stdout",
     "output_type": "stream",
     "text": [
      "[0, 2, 4, 6, 8, 10, 12, 14, 16, 18, 20, 22, 24, 26, 28, 30, 32, 34, 36, 38, 40, 42, 44, 46, 48, 50]\n"
     ]
    }
   ],
   "source": [
    "evens_to_50 = [i for i in range(51) if i % 2 == 0]\n",
    "print (evens_to_50)"
   ]
  },
  {
   "cell_type": "markdown",
   "metadata": {},
   "source": [
    "## List Comprehension Syntax\n",
    "Here’s a simple example of list comprehension syntax:"
   ]
  },
  {
   "cell_type": "code",
   "execution_count": null,
   "metadata": {},
   "outputs": [],
   "source": [
    "new_list = [x for x in range(1, 6)]\n",
    "# => [1, 2, 3, 4, 5]"
   ]
  },
  {
   "cell_type": "markdown",
   "metadata": {},
   "source": [
    "This will create a new_list populated by the numbers one to five. If you want those numbers doubled, you could use:"
   ]
  },
  {
   "cell_type": "code",
   "execution_count": null,
   "metadata": {},
   "outputs": [],
   "source": [
    "doubles = [x * 2 for x in range(1, 6)]\n",
    "# => [2, 4, 6, 8, 10]"
   ]
  },
  {
   "cell_type": "markdown",
   "metadata": {},
   "source": [
    "And if you only wanted the doubled numbers that are evenly divisible by three:"
   ]
  },
  {
   "cell_type": "code",
   "execution_count": null,
   "metadata": {},
   "outputs": [],
   "source": [
    "doubles_by_3 = [x * 2 for x in range(1, 6) if (x * 2) % 3 == 0]\n",
    "# => [6]"
   ]
  },
  {
   "cell_type": "markdown",
   "metadata": {},
   "source": [
    "### Instructions\n",
    "1. Use a list comprehension to build a list called even_squares in the editor.\n",
    "\n",
    "Your even_squares list should include the squares of the even numbers between 1 to 11. Your list should start [4, 16, 36...] and go from there."
   ]
  },
  {
   "cell_type": "code",
   "execution_count": 13,
   "metadata": {},
   "outputs": [
    {
     "name": "stdout",
     "output_type": "stream",
     "text": [
      "[4, 16, 36, 64, 100]\n"
     ]
    }
   ],
   "source": [
    "doubles_by_3 = [x * 2 for x in range(1, 6) if (x * 2) % 3 == 0]\n",
    "\n",
    "# Complete the following line. Use the line above for help.\n",
    "even_squares = [x**2 for x in range(1, 11) if (x % 2) == 0]\n",
    "\n",
    "print (even_squares)"
   ]
  },
  {
   "cell_type": "markdown",
   "metadata": {},
   "source": [
    "## Now You Try!\n",
    "Great work! Now it’s time for you to create a list comprehension all on your own."
   ]
  },
  {
   "cell_type": "code",
   "execution_count": null,
   "metadata": {},
   "outputs": [],
   "source": [
    "c = ['C' for x in range(5) if x < 3]\n",
    "print c"
   ]
  },
  {
   "cell_type": "markdown",
   "metadata": {},
   "source": [
    "The example above creates and prints out a list containing ['C', 'C', 'C'].\n",
    "\n",
    "### Instructions\n",
    "1. Use a list comprehension to create a list, cubes_by_four.\n",
    "\n",
    "The comprehension should consist of the cubes of the numbers 1 through 10 only if the cube is evenly divisible by four.\n",
    "\n",
    "Finally, print that list to the console.\n",
    "\n",
    "Note that in this case, the cubed number should be evenly divisible by 4, not the original number."
   ]
  },
  {
   "cell_type": "code",
   "execution_count": 14,
   "metadata": {},
   "outputs": [
    {
     "name": "stdout",
     "output_type": "stream",
     "text": [
      "[4, 16, 36, 64]\n"
     ]
    }
   ],
   "source": [
    "cubes_by_four = [x**3 for x in range(1, 12) if x**3 % 4 == 0]\n",
    "print(cubes_by_four)"
   ]
  },
  {
   "cell_type": "markdown",
   "metadata": {},
   "source": [
    "## List Slicing Syntax\n",
    "Sometimes we only want part of a Python list. Maybe we only want the first few elements; maybe we only want the last few. Maybe we want every other element!\n",
    "\n",
    "List slicing allows us to access elements of a list in a concise manner. The syntax looks like this:\n",
    "\n",
    "[start:end:stride]\n",
    "\n",
    "Where start describes where the slice starts (inclusive), end is where it ends (exclusive), and stride describes the space between items in the sliced list. For example, a stride of 2 would select every other item from the original list to place in the sliced list.\n",
    "\n",
    "### Instructions\n",
    "1. We’ve generated a list with a list comprehension in the editor to the right, and we’re about to print a selection from the list using list slicing. Can you guess what will be printed out? Click Run when you think you know!"
   ]
  },
  {
   "cell_type": "code",
   "execution_count": 15,
   "metadata": {},
   "outputs": [
    {
     "name": "stdout",
     "output_type": "stream",
     "text": [
      "[9, 25, 49, 81]\n"
     ]
    }
   ],
   "source": [
    "l = [i ** 2 for i in range(1, 11)]\n",
    "# Should be [1, 4, 9, 16, 25, 36, 49, 64, 81, 100]\n",
    "\n",
    "print (l[2:9:2])"
   ]
  },
  {
   "cell_type": "markdown",
   "metadata": {},
   "source": [
    "## Omitting Indices\n",
    "If you don’t pass a particular index to the list slice, Python will pick a default."
   ]
  },
  {
   "cell_type": "code",
   "execution_count": null,
   "metadata": {},
   "outputs": [],
   "source": [
    "to_five = ['A', 'B', 'C', 'D', 'E']\n",
    "\n",
    "print to_five[3:]\n",
    "# prints ['D', 'E'] \n",
    "\n",
    "print to_five[:2]\n",
    "# prints ['A', 'B']\n",
    "\n",
    "print to_five[::2]\n",
    "# print ['A', 'C', 'E']"
   ]
  },
  {
   "cell_type": "markdown",
   "metadata": {},
   "source": [
    "1. The default starting index is 0.\n",
    "2. The default ending index is the end of the list.\n",
    "3. The default stride is 1.\n",
    "\n",
    "### Instructions\n",
    "1. Use list slicing to print out every odd element of my_list from start to finish.\n",
    "\n",
    "Omit the start and end index. You only need to specify a stride."
   ]
  },
  {
   "cell_type": "code",
   "execution_count": 19,
   "metadata": {},
   "outputs": [
    {
     "name": "stdout",
     "output_type": "stream",
     "text": [
      "range(1, 11, 2)\n"
     ]
    }
   ],
   "source": [
    "my_list = range(1, 11) # List of numbers 1 - 10\n",
    "\n",
    "# Add your code below!\n",
    "print(my_list[::2])"
   ]
  },
  {
   "cell_type": "markdown",
   "metadata": {},
   "source": [
    "## Reversing a List\n",
    "We have seen that a positive stride progresses through the list from left to right.\n",
    "\n",
    "A negative stride progresses through the list from right to left."
   ]
  },
  {
   "cell_type": "code",
   "execution_count": null,
   "metadata": {},
   "outputs": [],
   "source": [
    "letters = ['A', 'B', 'C', 'D', 'E']\n",
    "print letters[::-1]"
   ]
  },
  {
   "cell_type": "markdown",
   "metadata": {},
   "source": [
    "In the example above, we print out ['E', 'D', 'C', 'B', 'A'].\n",
    "\n",
    "## Instructions\n",
    "1. Create a variable called backwards and set it equal to the reversed version of my_list.\n",
    "\n",
    "Make sure to reverse the list in the editor by passing your list slice a negative stride, like in the example above."
   ]
  },
  {
   "cell_type": "code",
   "execution_count": 25,
   "metadata": {},
   "outputs": [
    {
     "name": "stdout",
     "output_type": "stream",
     "text": [
      "[10, 9, 8, 7, 6, 5, 4, 3, 2, 1]\n"
     ]
    }
   ],
   "source": [
    "my_list = range(1, 11)\n",
    "# Add your code below!\n",
    "backwards = my_list[::-1]\n",
    "\n",
    "new_list = []\n",
    "for back in backwards:\n",
    "    new_list.append(back)\n",
    "    \n",
    "print (new_list)"
   ]
  },
  {
   "cell_type": "markdown",
   "metadata": {},
   "source": [
    "## Stride Length\n",
    "A positive stride length traverses the list from left to right, and a negative one traverses the list from right to left.\n",
    "\n",
    "Further, a stride length of 1 traverses the list “by ones,” a stride length of 2 traverses the list “by twos,” and so on.\n",
    "\n",
    "### Instructions\n",
    "1. Create a variable, backwards_by_tens, and set it equal to the result of going backwards through to_one_hundred by tens. Go ahead and print backwards_by_tens to the console."
   ]
  },
  {
   "cell_type": "code",
   "execution_count": 27,
   "metadata": {},
   "outputs": [
    {
     "name": "stdout",
     "output_type": "stream",
     "text": [
      "range(100, -1, -10)\n"
     ]
    }
   ],
   "source": [
    "to_one_hundred = range(101)\n",
    "# Add your code below!\n",
    "\n",
    "backwards_by_tens = to_one_hundred[::-10]\n",
    "print (backwards_by_tens)"
   ]
  },
  {
   "cell_type": "markdown",
   "metadata": {},
   "source": [
    "## Practice Makes Perfect\n",
    "Great work! See? This list slicing business is pretty straightforward.\n",
    "\n",
    "Let’s do one more, just to prove you really know your stuff.\n",
    "\n",
    "### Instructions\n",
    "1. Create a list, to_21, that’s just the numbers from 1 to 21, inclusive.\n",
    "\n",
    "Create a second list, odds, that contains only the odd numbers in the to_21 list (1, 3, 5, and so on). Use list slicing for this one instead of a list comprehension.\n",
    "\n",
    "Finally, create a third list, middle_third, that’s equal to the middle third of to_21, from 8 to 14, inclusive."
   ]
  },
  {
   "cell_type": "code",
   "execution_count": null,
   "metadata": {},
   "outputs": [],
   "source": [
    "to_21 = range(1,22)\n",
    "\n",
    "odds = to_21[::2]\n",
    "\n",
    "middle_third = to_21[7:14]"
   ]
  },
  {
   "cell_type": "markdown",
   "metadata": {},
   "source": [
    "## Anonymous Functions\n",
    "One of the more powerful aspects of Python is that it allows for a style of programming called functional programming, which means that you’re allowed to pass functions around just as if they were variables or values. Sometimes we take this for granted, but not all languages allow this!\n",
    "\n",
    "Check out the code at the right. See the lambda bit? Typing"
   ]
  },
  {
   "cell_type": "code",
   "execution_count": 28,
   "metadata": {},
   "outputs": [
    {
     "data": {
      "text/plain": [
       "<function __main__.<lambda>(x)>"
      ]
     },
     "execution_count": 28,
     "metadata": {},
     "output_type": "execute_result"
    }
   ],
   "source": [
    "lambda x: x % 3 == 0"
   ]
  },
  {
   "cell_type": "markdown",
   "metadata": {},
   "source": [
    "Is the same as"
   ]
  },
  {
   "cell_type": "code",
   "execution_count": 29,
   "metadata": {},
   "outputs": [],
   "source": [
    "def by_three(x):\n",
    "    return x % 3 == 0"
   ]
  },
  {
   "cell_type": "markdown",
   "metadata": {},
   "source": [
    "Only we don’t need to actually give the function a name; it does its work and returns a value without one. That’s why the function the lambda creates is an anonymous function.\n",
    "\n",
    "When we pass the lambda to filter, filter uses the lambda to determine what to filter, and the second argument (my_list, which is just the numbers 0 – 15) is the list it does the filtering on.\n",
    "### Instructions\n",
    "1. Can you guess what the this code will print to the console? Click Run to see."
   ]
  },
  {
   "cell_type": "code",
   "execution_count": 60,
   "metadata": {},
   "outputs": [
    {
     "name": "stdout",
     "output_type": "stream",
     "text": [
      "[0, 3, 6, 9, 12, 15]\n"
     ]
    }
   ],
   "source": [
    "my_list = range(16)\n",
    "print (list(filter(lambda x: x % 3 == 0, my_list)))"
   ]
  },
  {
   "cell_type": "markdown",
   "metadata": {},
   "source": [
    "Lambda Syntax\n",
    "Lambda functions are defined using the following syntax:"
   ]
  },
  {
   "cell_type": "code",
   "execution_count": 59,
   "metadata": {},
   "outputs": [
    {
     "name": "stdout",
     "output_type": "stream",
     "text": [
      "[0, 3, 6, 9, 12, 15]\n"
     ]
    }
   ],
   "source": [
    "my_list = range(16)\n",
    "print (list(filter(lambda x: x % 3 == 0, my_list)))"
   ]
  },
  {
   "cell_type": "markdown",
   "metadata": {},
   "source": [
    "Lambdas are useful when you need a quick function to do some work for you.\n",
    "\n",
    "If you plan on creating a function you’ll use over and over, you’re better off using def and giving that function a name.\n",
    "\n",
    "### Instructions\n",
    "1. Fill in the first part of the filter function with a lambda. The lambda should ensure that only \"Python\" is returned by the filter.\n",
    "\n",
    "Fill in the second part of the filter function with languages, the list to filter."
   ]
  },
  {
   "cell_type": "code",
   "execution_count": 32,
   "metadata": {},
   "outputs": [
    {
     "name": "stdout",
     "output_type": "stream",
     "text": [
      "<filter object at 0x107f09128>\n"
     ]
    }
   ],
   "source": [
    "languages = [\"HTML\", \"JavaScript\", \"Python\", \"Ruby\"]\n",
    "\n",
    "# Add arguments to the filter()\n",
    "print (filter(lambda x: x == 'Python', languages))"
   ]
  },
  {
   "cell_type": "markdown",
   "metadata": {},
   "source": [
    "## Try It!\n",
    "All right! Time to test out filter() and lambda expressions.\n",
    "\n",
    "cubes = [x ** 3 for x in range(1, 11)]\n",
    "filter(lambda x: x % 3 == 0, cubes)\n",
    "The example above is just a reminder of the syntax.\n",
    "\n",
    "### Instructions\n",
    "1. Create a list, squares, that consists of the squares of the numbers 1 to 10. A list comprehension could be useful here!\n",
    "\n",
    "Use filter() and a lambda expression to print out only the squares that are between 30 and 70 (inclusive)."
   ]
  },
  {
   "cell_type": "code",
   "execution_count": 57,
   "metadata": {},
   "outputs": [
    {
     "name": "stdout",
     "output_type": "stream",
     "text": [
      "[1, 4, 9, 16, 25, 36, 49, 64, 81, 100]\n",
      "[36, 49, 64]\n"
     ]
    }
   ],
   "source": [
    "squares = [x**2 for x in range(1,11)]\n",
    "print (squares)\n",
    "\n",
    "print (list((filter(lambda x: x >= 30 and x <= 70, squares))))"
   ]
  },
  {
   "cell_type": "markdown",
   "metadata": {},
   "source": [
    "## Iterating Over Dictionaries\n",
    "First, let’s review iterating over a dict.\n",
    "\n",
    "## Instructions\n",
    "1. Call the appropriate method on movies such that it will print out all the items (hint, hint) in the dictionary—that is, each key and each value."
   ]
  },
  {
   "cell_type": "code",
   "execution_count": 41,
   "metadata": {},
   "outputs": [
    {
     "name": "stdout",
     "output_type": "stream",
     "text": [
      "dict_keys(['Monty Python and the Holy Grail', \"Monty Python's Life of Brian\", \"Monty Python's Meaning of Life\"]) dict_items([('Monty Python and the Holy Grail', 'Great'), (\"Monty Python's Life of Brian\", 'Good'), (\"Monty Python's Meaning of Life\", 'Okay')])\n"
     ]
    }
   ],
   "source": [
    "movies = {\n",
    "  \"Monty Python and the Holy Grail\": \"Great\",\n",
    "  \"Monty Python's Life of Brian\": \"Good\",\n",
    "  \"Monty Python's Meaning of Life\": \"Okay\"\n",
    "}\n",
    "\n",
    "print movies.items()"
   ]
  },
  {
   "cell_type": "markdown",
   "metadata": {},
   "source": [
    "## Comprehending Comprehensions\n",
    "Good! Now let’s take another look at list comprehensions."
   ]
  },
  {
   "cell_type": "code",
   "execution_count": null,
   "metadata": {},
   "outputs": [],
   "source": [
    "squares = [x ** 2 for x in range(5)]"
   ]
  },
  {
   "cell_type": "markdown",
   "metadata": {},
   "source": [
    "### Instructions\n",
    "1. Use a list comprehension to create a list, threes_and_fives, that consists only of the numbers between 1 and 15 (inclusive) that are evenly divisible by 3 or 5."
   ]
  },
  {
   "cell_type": "code",
   "execution_count": 43,
   "metadata": {},
   "outputs": [
    {
     "name": "stdout",
     "output_type": "stream",
     "text": [
      "[3, 5, 6, 9, 10, 12, 15]\n"
     ]
    }
   ],
   "source": [
    "threes_and_fives = [x for x in range(1, 16) if x % 3 == 0 or x % 5 == 0]\n",
    "print (threes_and_fives)"
   ]
  },
  {
   "cell_type": "markdown",
   "metadata": {},
   "source": [
    "## List Slicing\n",
    "Great! Next up: list slicing."
   ]
  },
  {
   "cell_type": "code",
   "execution_count": null,
   "metadata": {},
   "outputs": [],
   "source": [
    "str = \"ABCDEFGHIJ\"\n",
    "start, end, stride = 1, 6, 2\n",
    "str[start:end:stride]"
   ]
  },
  {
   "cell_type": "markdown",
   "metadata": {},
   "source": [
    "You can think of a Python string as a list of characters.\n",
    "\n",
    "###  Instructions\n",
    "1. The string in the editor is garbled in two ways:\n",
    "* Our message is backwards.\n",
    "* The letter we want is every other letter.\n",
    "Use list slicing to extract the message and save it to a variable called message."
   ]
  },
  {
   "cell_type": "code",
   "execution_count": 44,
   "metadata": {},
   "outputs": [
    {
     "name": "stdout",
     "output_type": "stream",
     "text": [
      "I am the secret message\n"
     ]
    }
   ],
   "source": [
    "garbled = \"!XeXgXaXsXsXeXmX XtXeXrXcXeXsX XeXhXtX XmXaX XI\"\n",
    "\n",
    "message = garbled[len(garbled):1:-2]\n",
    "print(message)"
   ]
  },
  {
   "cell_type": "markdown",
   "metadata": {},
   "source": [
    "## Lambda Expressions\n",
    "Last but not least, let’s look over some lambdas."
   ]
  },
  {
   "cell_type": "code",
   "execution_count": 56,
   "metadata": {},
   "outputs": [
    {
     "name": "stdout",
     "output_type": "stream",
     "text": [
      "[0, 3, 6, 9, 12, 15]\n"
     ]
    }
   ],
   "source": [
    "my_list = range(16)\n",
    "\n",
    "print (list(filter(lambda x: x % 3 == 0, my_list)))"
   ]
  },
  {
   "cell_type": "markdown",
   "metadata": {},
   "source": [
    "We’ve given you another (slightly different) garbled. Sort it out with a filter() and a lambda.\n",
    "\n",
    "### Instructions\n",
    "1. Create a new variable called message.\n",
    "* Set it to the result of calling filter() with the appropriate lambda that will filter out the \"X\"s. The second argument will be garbled.\n",
    "Finally, print your message to the console."
   ]
  },
  {
   "cell_type": "code",
   "execution_count": 53,
   "metadata": {},
   "outputs": [
    {
     "name": "stdout",
     "output_type": "stream",
     "text": [
      "I am another secret message!\n"
     ]
    }
   ],
   "source": [
    "garbled = \"IXXX aXXmX aXXXnXoXXXXXtXhXeXXXXrX sXXXXeXcXXXrXeXt mXXeXsXXXsXaXXXXXXgXeX!XX\"\n",
    "\n",
    "message = list(filter(lambda x: x != \"X\", garbled))\n",
    "print (''.join(message))"
   ]
  },
  {
   "cell_type": "code",
   "execution_count": null,
   "metadata": {},
   "outputs": [],
   "source": []
  }
 ],
 "metadata": {
  "kernelspec": {
   "display_name": "Python 3",
   "language": "python",
   "name": "python3"
  },
  "language_info": {
   "codemirror_mode": {
    "name": "ipython",
    "version": 3
   },
   "file_extension": ".py",
   "mimetype": "text/x-python",
   "name": "python",
   "nbconvert_exporter": "python",
   "pygments_lexer": "ipython3",
   "version": "3.7.3"
  }
 },
 "nbformat": 4,
 "nbformat_minor": 2
}
