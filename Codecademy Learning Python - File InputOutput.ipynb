{
 "cells": [
  {
   "cell_type": "markdown",
   "metadata": {},
   "source": [
    "## See It to Believe It\n",
    "Until now, the Python code you’ve been writing comes from one source and only goes to one place: you type it in at the keyboard and its results are displayed in the console. But what if you want to read information from a file on your computer, and/or write that information to another file?\n",
    "\n",
    "This process is called file I/O (the “I/O” stands for “input/output”), and Python has a number of built-in functions that handle this for you.\n",
    "\n",
    "Check out the code in the editor to the right.\n",
    "\n",
    "### Instructions\n",
    "1. Click Run! You just wrote all the contents of my_list to a text file called output.txt."
   ]
  },
  {
   "cell_type": "code",
   "execution_count": 1,
   "metadata": {},
   "outputs": [],
   "source": [
    "my_list = [i ** 2 for i in range(1, 11)]\n",
    "# Generates a list of squares of the numbers 1 - 10\n",
    "\n",
    "f = open(\"output.txt\", \"w\")\n",
    "\n",
    "for item in my_list:\n",
    "  f.write(str(item) + \"\\n\")\n",
    "\n",
    "f.close()\n",
    "\n"
   ]
  },
  {
   "cell_type": "markdown",
   "metadata": {},
   "source": [
    "## The open() Function\n",
    "Let’s walk through the process of writing to a file one step at a time.\n",
    "\n",
    "The first code that you saw executed in the previous exercise was this:"
   ]
  },
  {
   "cell_type": "code",
   "execution_count": 2,
   "metadata": {},
   "outputs": [],
   "source": [
    "f = open(\"output.txt\", \"w\")"
   ]
  },
  {
   "cell_type": "markdown",
   "metadata": {},
   "source": [
    "This told Python to open output.txt in \"w\" mode (“w” stands for “write”). We stored the result of this operation in a file object, f.\n",
    "\n",
    "Doing this opens the file in write-mode and prepares Python to send data into the file.\n",
    "\n",
    "### Instructions\n",
    "1. Create a variable, my_file, and set it equal to calling the open() function on output.txt. In this case, pass \"r+\" as a second argument to the function so the file will allow you to read and write to it! "
   ]
  },
  {
   "cell_type": "code",
   "execution_count": null,
   "metadata": {},
   "outputs": [],
   "source": [
    "my_file = open(\"output.txt\", \"r+\")"
   ]
  },
  {
   "cell_type": "markdown",
   "metadata": {},
   "source": [
    "## Writing\n",
    "Good work! Now it’s time to write some data to a new .txt file.\n",
    "\n",
    "We added the list comprehension from the first exercise to the code in the editor. Our goal in this exercise will be to write each element of that list to a file called output.txt. The output.txt file that you write to will be created in your current folder - for simplicity, the folder has been hidden. output.txt will list each number on its own line.\n",
    "\n",
    "We can write to a Python file like so:"
   ]
  },
  {
   "cell_type": "code",
   "execution_count": null,
   "metadata": {},
   "outputs": [],
   "source": [
    "my_file.write(\"Data to be written\")"
   ]
  },
  {
   "cell_type": "markdown",
   "metadata": {},
   "source": [
    "The .write() method takes a string argument, so we’ll need to do a few things here:\n",
    "\n",
    "You must close the file. You do this simply by calling my_file.close() (we did this for you in the last exercise). If you don’t close your file, Python won’t write to it properly. From here on out, you gotta close your files!\n",
    "\n",
    "### Instructions\n",
    "1. Iterate over my_list to get each value.\n",
    "\n",
    "* Use my_file.write() to write each value to a text file called, output.txt.\n",
    "\n",
    "* Make sure to call str() on the iterating data so .write() will accept it.\n",
    "\n",
    "* Make sure to add a newline (+ \"\\n\") after each element to ensure each will appear on its own line.\n",
    "\n",
    "* Use my_file.close() to close the file when you’re done.\n",
    "\n",
    "* Passing the exercise means that you successfully wrote my_list to output.txt!"
   ]
  },
  {
   "cell_type": "code",
   "execution_count": null,
   "metadata": {},
   "outputs": [],
   "source": [
    "my_list = [i ** 2 for i in range(1, 11)]\n",
    "\n",
    "my_file = open(\"output.txt\", \"w\")\n",
    "\n",
    "# Add your code below!\n",
    "for i in range(0, len(my_list)):\n",
    "    my_file.write(str(my_list[i]) + \"\\n\")\n",
    "  \n",
    "my_file.close()"
   ]
  },
  {
   "cell_type": "markdown",
   "metadata": {},
   "source": [
    "## Reading\n",
    "Excellent! You’re a pro.\n",
    "\n",
    "Finally, we want to know how to read from our output.txt file. As you might expect, we do this with the read() function, like so:"
   ]
  },
  {
   "cell_type": "code",
   "execution_count": null,
   "metadata": {},
   "outputs": [],
   "source": [
    "print my_file.read()"
   ]
  },
  {
   "cell_type": "markdown",
   "metadata": {},
   "source": [
    "### Instructions\n",
    "1. Declare a variable, my_file, and set it equal to the file object returned by calling open() with both \"output.txt\" and \"r\".\n",
    "\n",
    "* Next, print the result of using .read() on my_file, like the example above.\n",
    "\n",
    "* Make sure to .close() your file when you’re done with it! All kinds of doom will happen if you don’t."
   ]
  },
  {
   "cell_type": "code",
   "execution_count": null,
   "metadata": {},
   "outputs": [],
   "source": [
    "my_file = open('output.txt', 'r')\n",
    "\n",
    "print(my_file.read())\n",
    "\n",
    "my_file.close()"
   ]
  },
  {
   "cell_type": "markdown",
   "metadata": {},
   "source": [
    "## Reading Between the Lines\n",
    "What if we want to read from a file line by line, rather than pulling the entire file in at once. Thankfully, Python includes a .readline() method that does exactly that.\n",
    "\n",
    "If you open a file and call .readline() on the file object, you’ll get the first line of the file; subsequent calls to .readline() will return successive lines.\n",
    "\n",
    "### Instructions\n",
    "1. Declare a new variable my_file and store the result of calling open() on the \"text.txt\" file in \"r\"ead-only mode.\n",
    "\n",
    "On three separate lines, print out the result of calling my_file.readline(). See how it gets the next line each time?\n",
    "\n",
    "Don’t forget to .close() your file when you’re done with it!"
   ]
  },
  {
   "cell_type": "code",
   "execution_count": null,
   "metadata": {},
   "outputs": [],
   "source": [
    "my_file = open('text.txt', 'r')\n",
    "\n",
    "print(my_file.readline())\n",
    "print(my_file.readline())\n",
    "print(my_file.readline())\n",
    "\n",
    "my_file.close()"
   ]
  },
  {
   "cell_type": "markdown",
   "metadata": {},
   "source": [
    "## PSA: Buffering Data\n",
    "We keep telling you that you always need to close your files after you’re done writing to them. Here’s why!\n",
    "\n",
    "During the I/O process, data is buffered: this means that it is held in a temporary location before being written to the file.\n",
    "\n",
    "Python doesn’t flush the buffer—that is, write data to the file—until it’s sure you’re done writing. One way to do this is to close the file. If you write to a file without closing, the data won’t make it to the target file.\n",
    "\n",
    "### Instructions\n",
    "1. Check out our extremely bad code in the editor. Click Run—you’ll note that our read_file.read() didn’t read any data back!\n",
    "\n",
    "* Add a write_file.close() call after writing to the file but before reading it.\n",
    "* Add a read_file.close() call after the print read_file.read() line\n",
    "* Run the code again.\n",
    "This time, you’ll see the data come through!"
   ]
  },
  {
   "cell_type": "code",
   "execution_count": null,
   "metadata": {},
   "outputs": [],
   "source": [
    "# Use a file handler to open a file for writing\n",
    "write_file = open(\"text.txt\", \"w\")\n",
    "\n",
    "# Open the file for reading\n",
    "read_file = open(\"text.txt\", \"r\")\n",
    "\n",
    "# Write to the file\n",
    "write_file.write(\"Not closing files is VERY BAD.\")\n",
    "\n",
    "write_file.close()\n",
    "\n",
    "# Try to read from the file\n",
    "print (read_file.read())\n",
    "\n",
    "read_file.close()"
   ]
  },
  {
   "cell_type": "markdown",
   "metadata": {},
   "source": [
    "## The 'with' and 'as' Keywords\n",
    "Programming is all about getting the computer to do the work. Is there a way to get Python to automatically close our files for us?\n",
    "\n",
    "Of course there is. This is Python.\n",
    "\n",
    "You may not know this, but file objects contain a special pair of built-in methods: __enter__() and __exit__(). The details aren’t important, but what is important is that when a file object’s __exit__() method is invoked, it automatically closes the file. How do we invoke this method? With with and as.\n",
    "\n",
    "The syntax looks like this:"
   ]
  },
  {
   "cell_type": "code",
   "execution_count": null,
   "metadata": {},
   "outputs": [],
   "source": [
    "with open(\"file\", \"mode\") as variable:\n",
    "  # Read or write to the file"
   ]
  },
  {
   "cell_type": "markdown",
   "metadata": {},
   "source": [
    "Instructions\n",
    "1. Check out the example in the editor. Note that we don’t explicitly close() our file, and remember that if we don’t close a file, our data will get stuck in the buffer. Click Run!\n",
    "\n",
    "Success! is written to a file called text.txt."
   ]
  },
  {
   "cell_type": "code",
   "execution_count": null,
   "metadata": {},
   "outputs": [],
   "source": [
    "with open(\"text.txt\", \"w\") as my_file:\n",
    "    my_file.write(\"Boogers and Cheese!\")"
   ]
  },
  {
   "cell_type": "markdown",
   "metadata": {},
   "source": [
    "## Case Closed?\n",
    "Finally, we’ll want a way to test whether a file we’ve opened is closed. Sometimes we’ll have a lot of file objects open, and if we’re not careful, they won’t all be closed. How can we test this?"
   ]
  },
  {
   "cell_type": "code",
   "execution_count": null,
   "metadata": {},
   "outputs": [],
   "source": [
    "f = open(\"bg.txt\")\n",
    "f.closed\n",
    "# False\n",
    "f.close()\n",
    "f.closed\n",
    "# True"
   ]
  },
  {
   "cell_type": "markdown",
   "metadata": {},
   "source": [
    "Python file objects have a closed attribute which is True when the file is closed and False otherwise.\n",
    "\n",
    "By checking file_object.closed, we’ll know whether our file is closed and can call close() on it if it’s still open.\n",
    "\n",
    "### Instructions\n",
    "1. Below your with…as code, do two things:\n",
    "\n",
    "* Check if the file is not closed.\n",
    "* If that’s the case, call .close() on it.\n",
    "* (You don’t need an else here, since your if statement should do nothing if closed is True.)\n",
    "* After your if statement, print out the value of my_file.closed to make sure your file is really closed."
   ]
  },
  {
   "cell_type": "code",
   "execution_count": null,
   "metadata": {},
   "outputs": [],
   "source": [
    "with open(\"text.txt\", \"w\") as my_file:\n",
    "    my_file.write(\"Boogers and Cheese!\")\n",
    "    \n",
    "if not my_file.closed:\n",
    "  my_file.close()\n",
    "\n",
    "print (my_file.closed)"
   ]
  }
 ],
 "metadata": {
  "kernelspec": {
   "display_name": "Python 3",
   "language": "python",
   "name": "python3"
  },
  "language_info": {
   "codemirror_mode": {
    "name": "ipython",
    "version": 3
   },
   "file_extension": ".py",
   "mimetype": "text/x-python",
   "name": "python",
   "nbconvert_exporter": "python",
   "pygments_lexer": "ipython3",
   "version": "3.7.3"
  }
 },
 "nbformat": 4,
 "nbformat_minor": 2
}
