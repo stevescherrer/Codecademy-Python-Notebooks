{
 "cells": [
  {
   "cell_type": "markdown",
   "metadata": {},
   "source": [
    "## Welcome to Battleship!\n",
    "In this project you will build a simplified, one-player version of the classic board game Battleship! In this version of the game, there will be a single ship hidden in a random location on a 5x5 grid. The player will have 10 guesses to try to sink the ship.\n",
    "\n",
    "To build this game we will use our knowledge of lists, conditionals and functions in Python. \n",
    "\n",
    "## Getting Our Feet Wet\n",
    "The first thing we need to do is to set up the game board.\n",
    "### Instructions\n",
    "1. Create a variable board and set it equal to an empty list."
   ]
  },
  {
   "cell_type": "code",
   "execution_count": 2,
   "metadata": {},
   "outputs": [],
   "source": [
    "board = []"
   ]
  },
  {
   "cell_type": "markdown",
   "metadata": {},
   "source": [
    "## Make a List\n",
    "Good! Now we’ll use a built-in Python function to generate our board, which we’ll make into a 5 x 5 grid of all \"O\"s, for “ocean.”"
   ]
  },
  {
   "cell_type": "code",
   "execution_count": null,
   "metadata": {
    "collapsed": true
   },
   "outputs": [],
   "source": [
    "print [\"O\"] * 5"
   ]
  },
  {
   "cell_type": "markdown",
   "metadata": {},
   "source": [
    "will print out ['O', 'O', 'O', 'O', 'O'], which is the basis for a row of our board.\n",
    "\n",
    "We’ll do this five times to make five rows. (Since we have to do this five times, it sounds like a loop might be in order.)\n",
    "\n",
    "### Instructions\n",
    "1. Create a 5 x 5 grid initialized to all ‘O’s and store it in board.\n",
    "\n",
    "* Use range() to loop 5 times.\n",
    "* Inside the loop, .append() a list containing 5 \"O\"s to board, just like in the example above.\n",
    "Note that these are capital letter “O” and not zeros."
   ]
  },
  {
   "cell_type": "code",
   "execution_count": 3,
   "metadata": {},
   "outputs": [],
   "source": [
    "for i in range(0,5):\n",
    "    board.append(['0']*5) # Functionally similar to rep() from R"
   ]
  },
  {
   "cell_type": "markdown",
   "metadata": {},
   "source": [
    "## Check it Twice\n",
    "Great job! Now that we’ve built our board, let’s show it off.\n",
    "\n",
    "Throughout our game, we’ll want to print the game board so that the player can see which locations they have already guessed. Regularly printing the board will also help us debug our program.\n",
    "\n",
    "The easiest way to print the board would be to have Python display it for us using the print command. Let’s give that a try and see what the results look like—is this a useful way to print our board for Battleship?\n",
    "\n",
    "### Instructions\n",
    "1. Use the print command to display the contents of the board list."
   ]
  },
  {
   "cell_type": "code",
   "execution_count": 4,
   "metadata": {},
   "outputs": [
    {
     "name": "stdout",
     "output_type": "stream",
     "text": [
      "[['0', '0', '0', '0', '0'], ['0', '0', '0', '0', '0'], ['0', '0', '0', '0', '0'], ['0', '0', '0', '0', '0'], ['0', '0', '0', '0', '0']]\n"
     ]
    }
   ],
   "source": [
    "print(board)"
   ]
  },
  {
   "cell_type": "markdown",
   "metadata": {},
   "source": [
    "## Custom Print\n",
    "Now we can see the contents of our list, but clearly it would be easier to play the game if we could print the board out like a grid with each row on its own line.\n",
    "\n",
    "We can use the fact that our board is a list of lists to help us do this. Let’s set up a for loop to go through each of the elements in the outer list (each of which is a row of our board) and print them.\n",
    "\n",
    "\n",
    "### Instructions\n",
    "1. First, delete your existing print statement.\n",
    "\n",
    "Then, define a function named print_board with a single argument, board_in.\n",
    "\n",
    "Inside the function, write a for loop to iterates through each row in board and print it to the screen.\n",
    "\n",
    "Call your function with board to make sure it works."
   ]
  },
  {
   "cell_type": "code",
   "execution_count": 6,
   "metadata": {},
   "outputs": [
    {
     "name": "stdout",
     "output_type": "stream",
     "text": [
      "['0', '0', '0', '0', '0']\n",
      "['0', '0', '0', '0', '0']\n",
      "['0', '0', '0', '0', '0']\n",
      "['0', '0', '0', '0', '0']\n",
      "['0', '0', '0', '0', '0']\n"
     ]
    }
   ],
   "source": [
    "def print_board(board_in):\n",
    "  for i in range(len(board_in)):\n",
    "    print(board_in[i])\n",
    "\n",
    "print_board(board)"
   ]
  },
  {
   "cell_type": "markdown",
   "metadata": {},
   "source": [
    "## Printing Pretty\n",
    "We’re getting pretty close to a playable board, but wouldn’t it be nice to get rid of those quote marks and commas? We’re storing our data as a list, but the player doesn’t need to know that!"
   ]
  },
  {
   "cell_type": "code",
   "execution_count": null,
   "metadata": {},
   "outputs": [],
   "source": [
    "letters = ['a', 'b', 'c', 'd']\n",
    "print \" \".join(letters)\n",
    "print \"---\".join(letters)"
   ]
  },
  {
   "cell_type": "markdown",
   "metadata": {},
   "source": [
    "1. In the example above, we create a list called letters.\n",
    "2. Then, we print a b c d. The .join method uses the string to combine the items in the list.\n",
    "3. Finally, we print a---b---c---d. We are calling the .join function on the \"---\" string.\n",
    "We want to turn each row into \"O O O O O\".\n",
    "\n",
    "### Instructions\n",
    "1. Inside your function, inside your for loop, use \" \" as the separator to .join the elements of each row."
   ]
  },
  {
   "cell_type": "code",
   "execution_count": 22,
   "metadata": {},
   "outputs": [
    {
     "name": "stdout",
     "output_type": "stream",
     "text": [
      "0 0 0 0 0\n",
      "0 0 0 0 0\n",
      "0 0 0 X 0\n",
      "0 0 0 0 0\n",
      "0 0 0 0 0\n"
     ]
    }
   ],
   "source": [
    "def print_board(board_in):\n",
    "  for i in range(len(board_in)):\n",
    "    print(\" \".join(board_in[i]))\n",
    "    \n",
    "print_board(board)"
   ]
  },
  {
   "cell_type": "markdown",
   "metadata": {},
   "source": [
    "## Hide...\n",
    "Excellent! Now, let’s hide our battleship in a random location on the board.\n",
    "\n",
    "Since we have a 2-dimensional list, we’ll use two variables to store the ship’s location, ship_row and ship_col."
   ]
  },
  {
   "cell_type": "code",
   "execution_count": null,
   "metadata": {},
   "outputs": [],
   "source": [
    "from random import randint\n",
    "coin = randint(0, 1)\n",
    "dice = randint(1, 6)"
   ]
  },
  {
   "cell_type": "markdown",
   "metadata": {},
   "source": [
    "1. In the above example, we first import the randint(low, high) function from the random module.\n",
    "2. Then, we generate either zero or one and store it in coin.\n",
    "3. Finally, we generate a number from one to six inclusive.\n",
    "Let’s generate a random_row and random_col from zero to four!\n",
    "\n",
    "### Instructions\n",
    "1. Define two new functions, random_row and random_col, that each take board_in as input.\n",
    "\n",
    "These functions should return a random row index and a random column index from your board, respectively. Use randint(0, len(board_in) - 1).\n",
    "\n",
    "Call each function on board."
   ]
  },
  {
   "cell_type": "code",
   "execution_count": 17,
   "metadata": {},
   "outputs": [],
   "source": [
    "import random\n",
    "\n",
    "def random_row(board_in):\n",
    "    return random.randint(0, len(board_in)-1)\n",
    "\n",
    "def random_col(board_in):\n",
    "    return random.randint(0, len(board_in)-1)\n",
    "\n",
    "ship_row = random_row(board)\n",
    "ship_col = random_col(board)"
   ]
  },
  {
   "cell_type": "markdown",
   "metadata": {},
   "source": [
    "## ...and Seek!\n",
    "Good job! For now, let’s store coordinates for the ship in the variables ship_row and ship_col. Now you have a hidden battleship in your ocean! Let’s write the code to allow the player to guess where it is."
   ]
  },
  {
   "cell_type": "code",
   "execution_count": 14,
   "metadata": {},
   "outputs": [
    {
     "name": "stdout",
     "output_type": "stream",
     "text": [
      "Enter a number: 2\n"
     ]
    }
   ],
   "source": [
    "number = input(\"Enter a number: \")\n",
    "if int(number) == 0:\n",
    "  print (\"You entered 0\")"
   ]
  },
  {
   "cell_type": "markdown",
   "metadata": {},
   "source": [
    "raw_input asks the user for input and returns it as a string. But we’re going to want to use integers for our guesses! To do this, we’ll wrap the raw_inputs with int() to convert the string to an integer.\n",
    "\n",
    "### Instructions\n",
    "1. Create a new variable called guess_row and set it to int(raw_input(\"Guess Row: \")).\n",
    "\n",
    "Create a new variable called guess_col and set it to int(raw_input(\"Guess Col: \")).\n",
    "\n",
    "Click Run and then answer the prompts by typing in a number and pressing Enter (or Return on some computers)."
   ]
  },
  {
   "cell_type": "code",
   "execution_count": 15,
   "metadata": {},
   "outputs": [
    {
     "name": "stdout",
     "output_type": "stream",
     "text": [
      "Guess Row: 2\n",
      "Guess Row: 3\n"
     ]
    }
   ],
   "source": [
    "guess_row = int(input(\"Guess Row: \"))\n",
    "guess_col = int(input(\"Guess Row: \"))"
   ]
  },
  {
   "cell_type": "markdown",
   "metadata": {},
   "source": [
    "## It's Not Cheating—It's Debugging!\n",
    "Awesome! Now we have a hidden battleship and a guess from our player. In the next few steps, we’ll check the user’s guess to see if they are correct.\n",
    "\n",
    "While we’re writing and debugging this part of the program, it will be helpful to know where that battleship is hidden. Let’s add a print statement that displays the location of the hidden ship.\n",
    "\n",
    "Of course, we’ll remove this output when we’re finished debugging since if we left it in, our game wouldn’t be very challenging. :)\n",
    "Instructions\n",
    "1.\n",
    "Before the lines prompting the user for input:\n",
    "\n",
    "Print the value of ship_row.\n",
    "\n",
    "Print the value of ship_col."
   ]
  },
  {
   "cell_type": "code",
   "execution_count": 18,
   "metadata": {},
   "outputs": [
    {
     "name": "stdout",
     "output_type": "stream",
     "text": [
      "0\n",
      "2\n"
     ]
    }
   ],
   "source": [
    "print(ship_row)\n",
    "print(ship_col)"
   ]
  },
  {
   "cell_type": "markdown",
   "metadata": {},
   "source": [
    "## You win!\n",
    "Okay—now for the fun! We have the actual location of the ship and the player’s guess so we can check to see if the player guessed right.\n",
    "\n",
    "For a guess to be right, guess_col should be equal to ship_col and guess_row should be equal to ship_row."
   ]
  },
  {
   "cell_type": "code",
   "execution_count": null,
   "metadata": {},
   "outputs": [],
   "source": [
    "if guess_col == 0 and guess_row == 0:\n",
    "  print \"Top-left corner.\""
   ]
  },
  {
   "cell_type": "markdown",
   "metadata": {},
   "source": [
    "The example above is just a reminder about if statements.\n",
    "\n",
    "### Instructions\n",
    "1. On line 29, add an if to check if guess_row equals ship_row and guess_col equals ship_col.\n",
    "\n",
    "If that is the case, please print out \"Congratulations! You sank my battleship!\"\n",
    "\n",
    "When you run this code, be sure to enter integer guesses in the panel where it asks for “Guess Row” and then “Guess Col”."
   ]
  },
  {
   "cell_type": "code",
   "execution_count": 19,
   "metadata": {},
   "outputs": [],
   "source": [
    "if guess_row == ship_row and guess_col == ship_col:\n",
    "    print (\"Congratulations! You sank my battleship!\")"
   ]
  },
  {
   "cell_type": "markdown",
   "metadata": {},
   "source": [
    "## Danger, Will Robinson!!\n",
    "Great! Of course, the player isn’t going to guess right all the time, so we also need to handle the case where the guess is wrong."
   ]
  },
  {
   "cell_type": "code",
   "execution_count": null,
   "metadata": {},
   "outputs": [],
   "source": [
    "print board[2][3]"
   ]
  },
  {
   "cell_type": "markdown",
   "metadata": {},
   "source": [
    "The example above prints out \"O\", the element in the 3rd row and 4th column.\n",
    "\n",
    "### Instructions\n",
    "1. Add an else under the if we wrote in the previous step.\n",
    "\n",
    "Print out \"You missed my battleship!\"\n",
    "\n",
    "Set the list element at guess_row, guess_col to \"X\".\n",
    "\n",
    "As the last line in your else statement, call print_board(board) again so you can see the \"X\".Make sure to enter a col and row that is on the board!\n"
   ]
  },
  {
   "cell_type": "code",
   "execution_count": 23,
   "metadata": {},
   "outputs": [
    {
     "name": "stdout",
     "output_type": "stream",
     "text": [
      "You missed my battleship!\n",
      "0 0 0 0 0\n",
      "0 0 0 0 0\n",
      "0 0 0 X 0\n",
      "0 0 0 0 0\n",
      "0 0 0 0 0\n"
     ]
    }
   ],
   "source": [
    "if guess_row == ship_row and guess_col == ship_col:\n",
    "    print (\"Congratulations! You sank my battleship!\")\n",
    "else:\n",
    "    print (\"You missed my battleship!\")\n",
    "    board[guess_row][guess_col] = 'X'\n",
    "    print_board (board)"
   ]
  },
  {
   "cell_type": "markdown",
   "metadata": {},
   "source": [
    "## Bad Aim\n",
    "Great job! Now we can handle both correct and incorrect guesses from the user. But now let’s think a little bit more about the “miss” condition.\n",
    "\n",
    "They can enter a guess that’s off the board.\n",
    "They can guess a spot they’ve already guessed.\n",
    "They can just miss the ship.\n",
    "We’ll add these tests inside our else condition. Let’s build the first case now!"
   ]
  },
  {
   "cell_type": "code",
   "execution_count": null,
   "metadata": {},
   "outputs": [],
   "source": [
    "if x not in range(8) or \\\n",
    "   y not in range(3):\n",
    "  print (\"Outside the range\")"
   ]
  },
  {
   "cell_type": "markdown",
   "metadata": {},
   "source": [
    "The example above checks if either x or y are outside those ranges. The \\ character just continues the if statement onto the next line.\n",
    "## Instructions\n",
    "1. Add a new if statement that is nested under the else.\n",
    "\n",
    "Like the example above, it should check if guess_row is not in range(5) or guess_col is not in range(5).\n",
    "\n",
    "If that is the case, print out \"Oops, that's not even in the ocean.\"\n",
    "\n",
    "After your new if statement, add an else that contains your existing handler for an incorrect guess. Don’t forget to indent the code!"
   ]
  },
  {
   "cell_type": "code",
   "execution_count": 26,
   "metadata": {},
   "outputs": [
    {
     "name": "stdout",
     "output_type": "stream",
     "text": [
      "You missed my battleship!\n",
      "0 0 0 0 0\n",
      "0 0 0 0 0\n",
      "0 0 0 X 0\n",
      "0 0 0 0 0\n",
      "0 0 0 0 0\n"
     ]
    }
   ],
   "source": [
    "if guess_row == ship_row and guess_col == ship_col:\n",
    "    print (\"Congratulations! You sank my battleship!\")\n",
    "else:\n",
    "  if guess_col not in range(5) or guess_row not in range(5):\n",
    "    print (\"Oops, that's not even in the ocean.\")\n",
    "  else:\n",
    "    print (\"You missed my battleship!\")\n",
    "    board[guess_row][guess_col] = 'X'\n",
    "    print_board (board)"
   ]
  },
  {
   "cell_type": "markdown",
   "metadata": {},
   "source": [
    "## Not Again!\n",
    "Great! Now let’s handle the second type of incorrect guess: the player guesses a location that was already guessed. How will we know that a location was previously guessed?"
   ]
  },
  {
   "cell_type": "code",
   "execution_count": 27,
   "metadata": {},
   "outputs": [
    {
     "name": "stdout",
     "output_type": "stream",
     "text": [
      "X\n"
     ]
    }
   ],
   "source": [
    "print (board[guess_row][guess_col])"
   ]
  },
  {
   "cell_type": "markdown",
   "metadata": {},
   "source": [
    "The example above will print an 'X' if already guessed or an 'O' otherwise.\n",
    "Instructions\n",
    "1.\n",
    "Add an elif to see if the guessed location already has an ‘X’ in it.\n",
    "\n",
    "If it has, print \"You guessed that one already.\""
   ]
  },
  {
   "cell_type": "code",
   "execution_count": 28,
   "metadata": {},
   "outputs": [
    {
     "name": "stdout",
     "output_type": "stream",
     "text": [
      "You guessed that one already.\n"
     ]
    }
   ],
   "source": [
    "if guess_row == ship_row and guess_col == ship_col:\n",
    "    print (\"Congratulations! You sank my battleship!\")\n",
    "else:\n",
    "    if guess_col not in range(5) or guess_row not in range(5):\n",
    "        print (\"Oops, that's not even in the ocean.\")\n",
    "    elif board[guess_row][guess_col] == 'X':\n",
    "        print('You guessed that one already.')\n",
    "    else:\n",
    "        print (\"You missed my battleship!\")\n",
    "        board[guess_row][guess_col] = 'X'\n",
    "        print_board (board)"
   ]
  },
  {
   "cell_type": "markdown",
   "metadata": {},
   "source": [
    "## Test Run\n",
    "Congratulations! Now you should have a game of Battleship! that is fully functional for one guess.\n",
    "\n",
    "Make sure you play it a couple of times and try different kinds of incorrect guesses. This is a great time to stop and do some serious debugging.\n",
    "\n",
    "In the next step, we’ll move on and look at how to give the user 4 guesses to find the battleship.\n",
    "\n",
    "### Instructions\n",
    "1. Thoroughly test your game. Make sure you try a variety of different guesses and look for any errors in the syntax or logic of your program."
   ]
  },
  {
   "cell_type": "markdown",
   "metadata": {},
   "source": [
    "## Play It, Sam\n",
    "You can successfully make one guess in Battleship! But we’d like our game to allow the player to make up to 4 guesses before they lose."
   ]
  },
  {
   "cell_type": "code",
   "execution_count": null,
   "metadata": {},
   "outputs": [],
   "source": [
    "for turn in range(4):\n",
    "  # Make a guess\n",
    "  # Test that guess"
   ]
  },
  {
   "cell_type": "markdown",
   "metadata": {},
   "source": [
    "We can use a for loop to iterate through a range. Each iteration will be a turn.\n",
    "### Instructions\n",
    "1. Add a for loop that repeats the guessing and checking part of your game for 4 turns, like the example above.\n",
    "\n",
    "At the beginning of each iteration, print \"Turn\", turn + 1 to let the player know what turn they are on.\n",
    "\n",
    "Indent everything that should be repeated."
   ]
  },
  {
   "cell_type": "code",
   "execution_count": null,
   "metadata": {},
   "outputs": [],
   "source": [
    "for turn in range(4):\n",
    "    print (\"Turn\", turn + 1)\n",
    "    guess_row = int(input(\"Guess Row: \"))\n",
    "    guess_col = int(input(\"Guess Col: \"))\n",
    "\n",
    "    if guess_row == ship_row and guess_col == ship_col:\n",
    "        print (\"Congratulations! You sunk my battleship!\")\n",
    "    else:\n",
    "        if (guess_row < 0 or guess_row > 4) or (guess_col < 0 or guess_col > 4):\n",
    "            print (\"Oops, that's not even in the ocean.\")\n",
    "        elif(board[guess_row][guess_col] == \"X\"):\n",
    "            print (\"You guessed that one already.\")\n",
    "        else:\n",
    "            print (\"You missed my battleship!\")\n",
    "            board[guess_row][guess_col] = \"X\"\n",
    "        print_board(board)"
   ]
  },
  {
   "cell_type": "markdown",
   "metadata": {},
   "source": [
    "## Game Over\n",
    "If someone runs out of guesses without winning right now, the game just exits. It would be nice to let them know why.\n",
    "\n",
    "Since we only want this message to display if the user guesses wrong on their last turn, we need to think carefully about where to put it.\n",
    "\n",
    "We’ll want to put it under the else that accounts for misses\n",
    "We’ll want to print the message no matter what the cause of the miss\n",
    "Since our turn variable starts at 0 and goes to 3, we will want to end the game when turn equals 3.\n",
    "\n",
    "### Instructions\n",
    "1. Add an if statement that checks to see if the user is out of guesses.\n",
    "\n",
    "* Put it under the else that accounts for misses.\n",
    "* Put it after the if/elif/else statements that check for the reason the player missed. We want \"Game Over\" to print regardless of the reason.\n",
    "If turn equals 3, print \"Game Over\"."
   ]
  },
  {
   "cell_type": "code",
   "execution_count": null,
   "metadata": {},
   "outputs": [],
   "source": [
    "for turn in range(4):\n",
    "    print (\"Turn\", turn + 1)\n",
    "    guess_row = int(input(\"Guess Row: \"))\n",
    "    guess_col = int(input(\"Guess Col: \"))\n",
    "\n",
    "    if guess_row == ship_row and guess_col == ship_col:\n",
    "        print (\"Congratulations! You sunk my battleship!\")\n",
    "    else:\n",
    "        if (guess_row < 0 or guess_row > 4) or (guess_col < 0 or guess_col > 4):\n",
    "            print (\"Oops, that's not even in the ocean.\")\n",
    "        elif(board[guess_row][guess_col] == \"X\"):\n",
    "            print (\"You guessed that one already.\")\n",
    "        else:\n",
    "            print (\"You missed my battleship!\")\n",
    "            board[guess_row][guess_col] = \"X\"\n",
    "        print_board(board)\n",
    "        if turn == 3:\n",
    "            print ('Game Over')"
   ]
  },
  {
   "cell_type": "markdown",
   "metadata": {},
   "source": [
    "## A Real Win\n",
    "Almost there! We can play Battleship!, but you’ll notice that when you win, if you haven’t already guessed 4 times, the program asks you to enter another guess. What we’d rather have happen is for the program to end—it’s no fun guessing if you know you’ve already sunk the Battleship!\n",
    "\n",
    "We can use the break command to get out of a for loop.\n",
    "\n",
    "### Instructions\n",
    "1. Add a break under the win condition to end the loop after a win."
   ]
  },
  {
   "cell_type": "code",
   "execution_count": 34,
   "metadata": {
    "scrolled": true
   },
   "outputs": [
    {
     "name": "stdout",
     "output_type": "stream",
     "text": [
      "Turn 1\n",
      "Guess Row: 1\n",
      "Guess Col: 1\n",
      "You guessed that one already.\n",
      "0 0 0 0 0\n",
      "0 X 0 0 0\n",
      "0 0 0 X X\n",
      "0 X 0 0 0\n",
      "0 0 X 0 0\n",
      "Turn 2\n",
      "Guess Row: 2\n",
      "Guess Col: 4\n",
      "You guessed that one already.\n",
      "0 0 0 0 0\n",
      "0 X 0 0 0\n",
      "0 0 0 X X\n",
      "0 X 0 0 0\n",
      "0 0 X 0 0\n",
      "Turn 3\n",
      "Guess Row: 5\n",
      "Guess Col: 5\n",
      "Oops, that's not even in the ocean.\n",
      "0 0 0 0 0\n",
      "0 X 0 0 0\n",
      "0 0 0 X X\n",
      "0 X 0 0 0\n",
      "0 0 X 0 0\n",
      "Turn 4\n",
      "Guess Row: 6\n",
      "Guess Col: 5\n",
      "Oops, that's not even in the ocean.\n",
      "0 0 0 0 0\n",
      "0 X 0 0 0\n",
      "0 0 0 X X\n",
      "0 X 0 0 0\n",
      "0 0 X 0 0\n",
      "Game Over\n"
     ]
    }
   ],
   "source": [
    "for turn in range(4):\n",
    "    print (\"Turn\", turn + 1)\n",
    "    guess_row = int(input(\"Guess Row: \"))\n",
    "    guess_col = int(input(\"Guess Col: \"))\n",
    "\n",
    "    if guess_row == ship_row and guess_col == ship_col:\n",
    "        print (\"Congratulations! You sunk my battleship!\")\n",
    "        break\n",
    "    else:\n",
    "        if (guess_row < 0 or guess_row > 4) or (guess_col < 0 or guess_col > 4):\n",
    "            print (\"Oops, that's not even in the ocean.\")\n",
    "        elif(board[guess_row][guess_col] == \"X\"):\n",
    "            print (\"You guessed that one already.\")\n",
    "        else:\n",
    "            print (\"You missed my battleship!\")\n",
    "            board[guess_row][guess_col] = \"X\"\n",
    "        print_board(board)\n",
    "        if turn == 3:\n",
    "            print ('Game Over')"
   ]
  },
  {
   "cell_type": "markdown",
   "metadata": {},
   "source": [
    "## To Your Battle Stations!\n",
    "Congratulations! You have a fully functional Battleship game! Play it a couple of times and get your friends to try it out, too. (Don’t forget to go back and remove the debugging output that gives away the location of the battleship!)\n",
    "\n",
    "You may want to take some time to clean up and document your code as well.\n",
    "\n",
    "### Instructions\n",
    "1. When you are done playing Battleship! and are ready to move on, click Run.\n",
    "\n",
    "## Extra Credit\n",
    "You can also add on to your Battleship! program to make it more complex and fun to play. Here are some ideas for enhancements—maybe you can think of some more!\n",
    "\n",
    "1. Make multiple battleships: you’ll need to be careful because you need to make sure that you don’t place battleships on top of each other on the game board. You’ll also want to make sure that you balance the size of the board with the number of ships so the game is still challenging and fun to play.\n",
    "2. Make battleships of different sizes: this is trickier than it sounds. All the parts of the battleship need to be vertically or horizontally touching and you’ll need to make sure you don’t accidentally place part of a ship off the side of the board.\n",
    "3. Make your game a two-player game.\n",
    "4. Use functions to allow your game to have more features like rematches, statistics and more!\n",
    "\n",
    "Some of these options will be easier after we cover loops in the next lesson. Think about coming back to Battleship! after a few more lessons and see what other changes you can make!"
   ]
  }
 ],
 "metadata": {
  "kernelspec": {
   "display_name": "Python 3",
   "language": "python",
   "name": "python3"
  },
  "language_info": {
   "codemirror_mode": {
    "name": "ipython",
    "version": 3
   },
   "file_extension": ".py",
   "mimetype": "text/x-python",
   "name": "python",
   "nbconvert_exporter": "python",
   "pygments_lexer": "ipython3",
   "version": "3.7.3"
  }
 },
 "nbformat": 4,
 "nbformat_minor": 2
}
