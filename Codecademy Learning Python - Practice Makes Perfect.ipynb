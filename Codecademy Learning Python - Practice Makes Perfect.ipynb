{
 "cells": [
  {
   "cell_type": "markdown",
   "metadata": {},
   "source": [
    "## Practice! Practice Practice!\n",
    "The best way to get good at anything is a lot of practice. This lesson is full of practice problems for you to work on. Each exercise will contain minimal instructions to help you solve these problems. The goal is to help you take your programming skills and apply them to real life problems.\n",
    "\n",
    "The more challenging programs will contain some helpful hints to nudge you in the right direction."
   ]
  },
  {
   "cell_type": "markdown",
   "metadata": {},
   "source": [
    "## is_even\n",
    "All right! Let’s get started.\n",
    "\n",
    "Remember how an even number is a number that is divisible by 2?\n",
    "### Instructions\n",
    "1. Define a function is_even that will take a number x as input.\n",
    "\n",
    "If x is even, then return True.\n",
    "\n",
    "Otherwise, return False."
   ]
  },
  {
   "cell_type": "code",
   "execution_count": null,
   "metadata": {},
   "outputs": [],
   "source": [
    "def is_even(x):\n",
    "    return x % 2 == 0"
   ]
  },
  {
   "cell_type": "markdown",
   "metadata": {},
   "source": [
    "## is_int\n",
    "An integer is just a number without a decimal part (for instance, -17, 0, and 42 are all integers, but 98.6 is not).\n",
    "\n",
    "For the purpose of this lesson, we’ll also say that a number with a decimal part that is all 0s is also an integer, such as 7.0.\n",
    "\n",
    "This means that, for this lesson, you can’t just test the input to see if it’s of type int.\n",
    "\n",
    "If the difference between a number and that same number rounded is greater than zero, what does that say about that particular number?\n",
    "\n",
    "### Instructions\n",
    "1. Define a function is_int that takes a number x as an input.\n",
    "\n",
    "Have it return True if the number is an integer (as defined above) and False otherwise.\n"
   ]
  },
  {
   "cell_type": "code",
   "execution_count": 6,
   "metadata": {},
   "outputs": [
    {
     "name": "stdout",
     "output_type": "stream",
     "text": [
      "True\n",
      "False\n"
     ]
    }
   ],
   "source": [
    "def is_int(x):\n",
    "    absolute = abs(x)\n",
    "    rounded = round(absolute)\n",
    "    return absolute - rounded == 0\n",
    "\n",
    "print (is_int(10))\n",
    "print (is_int(10.5))"
   ]
  },
  {
   "cell_type": "markdown",
   "metadata": {},
   "source": [
    "## digit_sum\n",
    "Awesome! Now let’s try something a little trickier. Try summing the digits of a number.\n",
    "\n",
    "### Instructions\n",
    "1. Write a function called digit_sum that takes a positive integer n as input and returns the sum of all that number’s digits. For example: digit_sum(1234) should return 10 which is 1 + 2 + 3 + 4. (Assume that the number you are given will always be positive.)\n",
    "\n",
    "Check the hint if you need help!"
   ]
  },
  {
   "cell_type": "code",
   "execution_count": 7,
   "metadata": {},
   "outputs": [
    {
     "data": {
      "text/plain": [
       "12"
      ]
     },
     "execution_count": 7,
     "metadata": {},
     "output_type": "execute_result"
    }
   ],
   "source": [
    "def digit_sum(n):\n",
    "    total = 0\n",
    "    n_str = str(n)\n",
    "    for numeric in n_str:\n",
    "        total += int(numeric)\n",
    "    return total\n",
    "\n",
    "digit_sum(2442)"
   ]
  },
  {
   "cell_type": "markdown",
   "metadata": {},
   "source": [
    "## factorial\n",
    "All right! Now we’re cooking. Let’s try a factorial problem.\n",
    "\n",
    "To calculate the factorial of a non-negative integer x, just multiply all the integers from 1 through x. For example:\n",
    "\n",
    "factorial(4) would equal 4 * 3 * 2 * 1, which is 24.\n",
    "factorial(1) would equal 1.\n",
    "factorial(3) would equal 3 * 2 * 1, which is 6.\n",
    "\n",
    "### Instructions\n",
    "1. Define a function factorial that takes an integer x as input.\n",
    "\n",
    "Calculate and return the factorial of that number."
   ]
  },
  {
   "cell_type": "code",
   "execution_count": null,
   "metadata": {},
   "outputs": [],
   "source": [
    "def factorial(x):\n",
    "    total = 1\n",
    "    for i in range(1, x+1):\n",
    "        total *= i\n",
    "    return total"
   ]
  },
  {
   "cell_type": "markdown",
   "metadata": {},
   "source": [
    "## is_prime\n",
    "A prime number is a positive integer greater than 1 that has no positive divisors other than 1 and itself. (That’s a mouthful!)\n",
    "\n",
    "In other words, if you want to test if a number in a variable x is prime, then no other number should go into x evenly besides 1 and x. So 2 and 5 and 11 are all prime, but 4 and 18 and 21 are not.\n",
    "\n",
    "If there is a number between 1 and x that goes in evenly, then x is not prime.\n",
    "\n",
    "### Instructions\n",
    "1. Define a function called is_prime that takes a number x as input.\n",
    "\n",
    "For each number n from 2 to x - 1, test if x is evenly divisible by n.\n",
    "\n",
    "If it is, return False.\n",
    "\n",
    "If none of them are, then return True."
   ]
  },
  {
   "cell_type": "code",
   "execution_count": 11,
   "metadata": {},
   "outputs": [
    {
     "name": "stdout",
     "output_type": "stream",
     "text": [
      "True\n",
      "False\n"
     ]
    }
   ],
   "source": [
    "def is_prime(x):\n",
    "    if x < 2:\n",
    "        return False\n",
    "    else:\n",
    "        for n in range(2, x-1):\n",
    "            if x % n == 0:\n",
    "                return False\n",
    "        return True\n",
    "\n",
    "print (is_prime(13))\n",
    "print (is_prime(10))"
   ]
  },
  {
   "cell_type": "markdown",
   "metadata": {},
   "source": [
    "## reverse\n",
    "Great work so far! Let’s practice writing some functions that work with strings.\n",
    "\n",
    "### Instructions\n",
    "1. Define a function called reverse that takes a string text and returns that string in reverse. For example: reverse(\"abcd\") should return \"dcba\".\n",
    "\n",
    "You may not use reversed or [::-1] to help you with this.\n",
    "\n",
    "You may get a string containing special characters (for example, !, @, or #)."
   ]
  },
  {
   "cell_type": "code",
   "execution_count": null,
   "metadata": {},
   "outputs": [],
   "source": [
    "def reverse(text):\n",
    "    word = \"\"\n",
    "    l = len(text) - 1\n",
    "    while l >= 0:\n",
    "        word = word + text[l]\n",
    "        l -= 1\n",
    "    return word\n",
    "  \n",
    "print (reverse(\"Hello World\"))"
   ]
  },
  {
   "cell_type": "markdown",
   "metadata": {},
   "source": [
    "## anti_vowel\n",
    "Nice work. Next up: vowels!\n",
    "\n",
    "### Instructions\n",
    "1. Define a function called anti_vowel that takes one string, text, as input and returns the text with all of the vowels removed.\n",
    "\n",
    "For example: anti_vowel(\"Hey You!\") should return \"Hy Y!\". Don’t count Y as a vowel. Make sure to remove lowercase and uppercase vowels."
   ]
  },
  {
   "cell_type": "code",
   "execution_count": 18,
   "metadata": {},
   "outputs": [
    {
     "name": "stdout",
     "output_type": "stream",
     "text": [
      "pzz\n",
      "None\n"
     ]
    }
   ],
   "source": [
    "def anti_vowel(text):\n",
    "    new_word = \"\"\n",
    "    for i in range(0, len(text)):\n",
    "        if text[i].lower() != 'a' and \\\n",
    "        text[i].lower() != 'e' and \\\n",
    "        text[i].lower() != 'i' and \\\n",
    "        text[i].lower() != 'o' and \\\n",
    "        text[i].lower() != 'u':\n",
    "            new_word = new_word + text[i]\n",
    "    return new_word\n",
    "        \n",
    "print(anti_vowel('pizza'))"
   ]
  },
  {
   "cell_type": "markdown",
   "metadata": {},
   "source": [
    "## scrabble_score\n",
    "Scrabble is a game where players get points by spelling words. Words are scored by adding together the point values of each individual letter (we’ll leave out the double and triple letter and word scores for now).\n",
    "\n",
    "To the right is a dictionary containing all of the letters in the alphabet with their corresponding Scrabble point values.\n",
    "\n",
    "For example: the word \"Helix\" would score 15 points due to the sum of the letters: 4 + 1 + 1 + 1 + 8.\n",
    "\n",
    "### Instructions\n",
    "1. Define a function scrabble_score that takes a string word as input and returns the equivalent scrabble score for that word.\n",
    "\n",
    "Assume your input is only one word containing no spaces or punctuation.\n",
    "As mentioned, no need to worry about score multipliers!\n",
    "Your function should work even if the letters you get are uppercase, lowercase, or a mix.\n",
    "Assume that you’re only given non-empty strings."
   ]
  },
  {
   "cell_type": "code",
   "execution_count": 20,
   "metadata": {},
   "outputs": [
    {
     "name": "stdout",
     "output_type": "stream",
     "text": [
      "25\n"
     ]
    }
   ],
   "source": [
    "score = {\"a\": 1, \"c\": 3, \"b\": 3, \"e\": 1, \"d\": 2, \"g\": 2, \n",
    "         \"f\": 4, \"i\": 1, \"h\": 4, \"k\": 5, \"j\": 8, \"m\": 3, \n",
    "         \"l\": 1, \"o\": 1, \"n\": 1, \"q\": 10, \"p\": 3, \"s\": 1, \n",
    "         \"r\": 1, \"u\": 1, \"t\": 1, \"w\": 4, \"v\": 4, \"y\": 4, \n",
    "         \"x\": 8, \"z\": 10}\n",
    "\n",
    "def scrabble_score(word):\n",
    "    word_score = 0\n",
    "    for letter in word.lower():\n",
    "        word_score += score[letter]\n",
    "    return word_score\n",
    "\n",
    "print(scrabble_score('pizza'))"
   ]
  },
  {
   "cell_type": "markdown",
   "metadata": {},
   "source": [
    "## censor\n",
    "You’re doing great with these string function challenges. Last one!\n",
    "\n",
    "### Instructions\n",
    "1. Write a function called censor that takes two strings, text and word, as input. It should return the text with the word you chose replaced with asterisks. For example:"
   ]
  },
  {
   "cell_type": "code",
   "execution_count": null,
   "metadata": {},
   "outputs": [],
   "source": [
    "censor(\"this hack is wack hack\", \"hack\") \n",
    "\n",
    "\"\"\"\n",
    "should return:\n",
    "\"\"\"\n",
    "\n",
    "\"this **** is wack ****\""
   ]
  },
  {
   "cell_type": "markdown",
   "metadata": {},
   "source": [
    "* Assume your input strings won’t contain punctuation or upper case letters.\n",
    "* The number of asterisks you put should correspond to the number of letters in the censored word."
   ]
  },
  {
   "cell_type": "code",
   "execution_count": 23,
   "metadata": {},
   "outputs": [
    {
     "name": "stdout",
     "output_type": "stream",
     "text": [
      " I **** pizza\n"
     ]
    }
   ],
   "source": [
    "def censor(text, word):\n",
    "    words = text.split()\n",
    "    text_out = \"\"\n",
    "    for i in words:\n",
    "        if i != word:\n",
    "            text_out = text_out + ' ' + i\n",
    "        else:\n",
    "            censored = \"\"\n",
    "            for n in i:\n",
    "                censored = censored + '*'\n",
    "            text_out = text_out + ' ' + censored\n",
    "    return text_out\n",
    "\n",
    "print(censor('I hate pizza', 'hate'))"
   ]
  },
  {
   "cell_type": "markdown",
   "metadata": {},
   "source": [
    "## count\n",
    "Great work so far. Let’s finish up by practicing with a few functions that take lists as arguments.\n",
    "\n",
    "### Instructions\n",
    "1. Define a function called count that has two arguments called sequence and item.\n",
    "\n",
    "Return the number of times the item occurs in the list.\n",
    "\n",
    "For example: count([1, 2, 1, 1], 1) should return 3 (because 1 appears 3 times in the list).\n",
    "\n",
    "* There is a list method in Python that you can use for this, but you should do it the long way for practice.\n",
    "* Your function should return an integer.\n",
    "* The item you input may be an integer, string, float, or even another list!\n",
    "* Be careful not to use list as a variable name in your code—it’s a reserved word in Python!"
   ]
  },
  {
   "cell_type": "code",
   "execution_count": null,
   "metadata": {},
   "outputs": [],
   "source": [
    "def count(sequence, item):\n",
    "    counter = 0\n",
    "    for i in range(0, len(sequence)):\n",
    "        if sequence[i] == item:\n",
    "            counter += 1\n",
    "    return counter"
   ]
  },
  {
   "cell_type": "markdown",
   "metadata": {},
   "source": [
    "## purify\n",
    "Awesome! Now let’s practice filtering a list.\n",
    "\n",
    "### Instructions\n",
    "1. Define a function called purify that takes in a list of numbers, removes all odd numbers in the list, and returns the result. For example, purify([1,2,3]) should return [2].\n",
    "\n",
    "Do not directly modify the list you are given as input; instead, return a new list with only the even numbers."
   ]
  },
  {
   "cell_type": "code",
   "execution_count": 24,
   "metadata": {},
   "outputs": [
    {
     "name": "stdout",
     "output_type": "stream",
     "text": [
      "[2, 4, 8]\n"
     ]
    }
   ],
   "source": [
    "def purify(x):\n",
    "    out = []\n",
    "    for i in range(0, len(x)):\n",
    "        if x[i] % 2 == 0:\n",
    "            out.append(x[i])\n",
    "    return out\n",
    "\n",
    "print(purify([1, 2, 4, 5, 8]))"
   ]
  },
  {
   "cell_type": "markdown",
   "metadata": {},
   "source": [
    "## product\n",
    "Great! Now let’s try a little multiplication.\n",
    "\n",
    "### Instructions\n",
    "1. Define a function called product that takes a list of integers as input and returns the product of all of the elements in the list. For example: product([4, 5, 5]) should return 100 (because 4 * 5 * 5 is 100).\n",
    "\n",
    "Don’t worry about the list being empty.\n",
    "Your function should return an integer."
   ]
  },
  {
   "cell_type": "code",
   "execution_count": 25,
   "metadata": {},
   "outputs": [
    {
     "name": "stdout",
     "output_type": "stream",
     "text": [
      "30\n"
     ]
    }
   ],
   "source": [
    "def product(x):\n",
    "    prod = 1\n",
    "    for i in range(0, len(x)):\n",
    "        prod *= x[i]\n",
    "    return prod\n",
    "\n",
    "print(product([2, 3, 5]))"
   ]
  },
  {
   "cell_type": "markdown",
   "metadata": {},
   "source": [
    "## remove_duplicates\n",
    "Awesome! Now for something a bit trickier.\n",
    "\n",
    "### Instructions\n",
    "1. Write a function remove_duplicates that takes in a list and removes elements of the list that are the same.\n",
    "\n",
    "* For example: remove_duplicates([1, 1, 2, 2]) should return [1, 2].\n",
    "\n",
    "* Don’t remove every occurrence, since you need to keep a single occurrence of a number.\n",
    "* The order in which you present your output does not matter. So returning [1, 2, 3] is the same as returning [3, 1, 2].\n",
    "* Do not modify the list you take as input! Instead, return a new list."
   ]
  },
  {
   "cell_type": "code",
   "execution_count": 29,
   "metadata": {},
   "outputs": [
    {
     "name": "stdout",
     "output_type": "stream",
     "text": [
      "[1, 2]\n"
     ]
    }
   ],
   "source": [
    "def remove_duplicates(inputlist):\n",
    "    if inputlist == []:\n",
    "        return []\n",
    "    \n",
    "    # Sort the input list from low to high    \n",
    "    inputlist = sorted(inputlist)\n",
    "    # Initialize the output list, and give it the first value of the now-sorted input list\n",
    "    outputlist = [inputlist[0]]\n",
    "\n",
    "    # Go through the values of the sorted list and append to the output list\n",
    "    # ...any values that are greater than the last value of the output list\n",
    "    for i in inputlist:\n",
    "        if i > outputlist[-1]:\n",
    "            outputlist.append(i)\n",
    "        \n",
    "    return outputlist\n",
    "  \n",
    "print (remove_duplicates([1, 1, 2, 2]))"
   ]
  },
  {
   "cell_type": "markdown",
   "metadata": {},
   "source": [
    "## median\n",
    "Great work! You’ve covered a lot in these exercises. Last but not least, let’s write a function to find the median of a list.\n",
    "\n",
    "The median is the middle number in a sorted sequence of numbers.\n",
    "\n",
    "Finding the median of [7, 12, 3, 1, 6] would first consist of sorting the sequence into [1, 3, 6, 7, 12] and then locating the middle value, which would be 6.\n",
    "\n",
    "If you are given a sequence with an even number of elements, you must average the two elements surrounding the middle.\n",
    "\n",
    "For example, the median of the sequence [7, 3, 1, 4] is 3.5, since the middle elements after sorting the list are 3 and 4 and (3 + 4) / (2.0) is 3.5.\n",
    "\n",
    "You can sort the sequence using the sorted() function, like so:"
   ]
  },
  {
   "cell_type": "code",
   "execution_count": 30,
   "metadata": {},
   "outputs": [
    {
     "data": {
      "text/plain": [
       "[1, 2, 3, 4, 5]"
      ]
     },
     "execution_count": 30,
     "metadata": {},
     "output_type": "execute_result"
    }
   ],
   "source": [
    "sorted([5, 2, 3, 1, 4])\n",
    "# [1, 2, 3, 4, 5]"
   ]
  },
  {
   "cell_type": "markdown",
   "metadata": {},
   "source": [
    "### Instructions\n",
    "1. Write a function called median that takes a list as an input and returns the median value of the list. For example: median([1, 1, 2]) should return 1.\n",
    "\n",
    "* The list can be of any size and the numbers are not guaranteed to be in any particular order. Make sure to sort it!\n",
    "* If the list contains an even number of elements, your function should return the average of the middle two."
   ]
  },
  {
   "cell_type": "code",
   "execution_count": 38,
   "metadata": {
    "scrolled": true
   },
   "outputs": [
    {
     "name": "stdout",
     "output_type": "stream",
     "text": [
      "3\n",
      "3.5\n"
     ]
    }
   ],
   "source": [
    "def median(lst):\n",
    "    sorted_list = sorted(lst)\n",
    "    if len(sorted_list) % 2 != 0:\n",
    "        #odd number of elements\n",
    "        index = len(sorted_list)//2 \n",
    "        return sorted_list[index]\n",
    "    elif len(sorted_list) % 2 == 0:\n",
    "        #even no. of elements\n",
    "        index_1 = len(sorted_list)//2 - 1\n",
    "        index_2 = len(sorted_list)//2\n",
    "        mean = (sorted_list[index_1] + sorted_list[index_2])/2.0\n",
    "        return mean\n",
    "    \n",
    "print(median([4, 5, 1, 2, 3]))\n",
    "print(median([4, 5, 1, 2, 3, 6]))"
   ]
  },
  {
   "cell_type": "code",
   "execution_count": null,
   "metadata": {},
   "outputs": [],
   "source": []
  }
 ],
 "metadata": {
  "kernelspec": {
   "display_name": "Python 3",
   "language": "python",
   "name": "python3"
  },
  "language_info": {
   "codemirror_mode": {
    "name": "ipython",
    "version": 3
   },
   "file_extension": ".py",
   "mimetype": "text/x-python",
   "name": "python",
   "nbconvert_exporter": "python",
   "pygments_lexer": "ipython3",
   "version": "3.7.3"
  }
 },
 "nbformat": 4,
 "nbformat_minor": 2
}
