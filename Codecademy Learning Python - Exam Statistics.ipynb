{
 "cells": [
  {
   "cell_type": "markdown",
   "metadata": {},
   "source": [
    "## Let's look at those grades!\n",
    "Creating a program to compute statistics means that you won’t have to whip out your calculator and manually crunch numbers. All you’ll have to do is supply a new set of numbers and our program does all of the hard work.\n",
    "\n",
    "This mini-project will give you some practice with functions, lists, and translating mathematical formulae into programming statements.\n",
    "\n",
    "In order to use the scores in our program, we’ll need them in a container, namely a list.\n",
    "\n",
    "On the right, you’ll see the grades listed (see what I did there). The data is anonymous to protect the privacy of the students."
   ]
  },
  {
   "cell_type": "code",
   "execution_count": 1,
   "metadata": {},
   "outputs": [
    {
     "name": "stdout",
     "output_type": "stream",
     "text": [
      "Grades: [100, 100, 90, 40, 80, 100, 85, 70, 90, 65, 90, 85, 50.5]\n"
     ]
    }
   ],
   "source": [
    "grades = [100, 100, 90, 40, 80, 100, 85, 70, 90, 65, 90, 85, 50.5]\n",
    "print (\"Grades:\", grades)"
   ]
  },
  {
   "cell_type": "markdown",
   "metadata": {},
   "source": [
    "## Print those grades\n",
    "As a refresher, let’s start off by writing a function to print out the list of grades, one element at a time.\n",
    "\n",
    "### Instructions\n",
    "1. Define a function on line 3 called print_grades with one argument, a list called grades_input.\n",
    "\n",
    "* Inside the function, iterate through grades_input and print each item on its own line.\n",
    "\n",
    "* After your function, call print_grades with the grades list as the parameter."
   ]
  },
  {
   "cell_type": "code",
   "execution_count": 2,
   "metadata": {},
   "outputs": [
    {
     "name": "stdout",
     "output_type": "stream",
     "text": [
      "100\n",
      "100\n",
      "90\n",
      "40\n",
      "80\n",
      "100\n",
      "85\n",
      "70\n",
      "90\n",
      "65\n",
      "90\n",
      "85\n",
      "50.5\n",
      "None\n"
     ]
    }
   ],
   "source": [
    "def print_grades(grades_input):\n",
    "    for grade in grades_input:\n",
    "        print(grade)\n",
    "\n",
    "print (print_grades(grades))"
   ]
  },
  {
   "cell_type": "markdown",
   "metadata": {},
   "source": [
    "## Review\n",
    "So far, you’ve created a helper function that will be used in the next sections.\n",
    "\n",
    "You also have a solid handle on the concepts that we’ll need to continue.\n",
    "\n",
    "The next step in the creation of our grade statistics program involves computing the mean (average) of the grades.\n",
    "\n",
    "Onwards."
   ]
  },
  {
   "cell_type": "code",
   "execution_count": null,
   "metadata": {},
   "outputs": [],
   "source": [
    "print \"Let's compute some stats!\""
   ]
  },
  {
   "cell_type": "markdown",
   "metadata": {},
   "source": [
    "## The sum of scores\n",
    "Now that we have a function to print the grades, let’s create another function to compute the sum of all of the test grades.\n",
    "\n",
    "This will be super-helpful when we need to compute the average score.\n",
    "\n",
    "I know what you’re thinking, “let’s just use the built-in sum function!” The built-in function would work beautifully, but it would be too easy.\n",
    "\n",
    "Computing the sum manually involves computing a rolling sum. As you loop through the list, add the current grade to a variable that keeps track of the total, let’s call that variable total.\n",
    "\n",
    "### Instructions\n",
    "1. On line 3, define a function, grades_sum, that does the following:\n",
    "* Takes in a list of scores, scores\n",
    "* Computes the sum of the scores\n",
    "* Returns the computed sum.\n",
    "* Call the newly created grades_sum function with the list of grades and print the result."
   ]
  },
  {
   "cell_type": "code",
   "execution_count": 3,
   "metadata": {},
   "outputs": [
    {
     "name": "stdout",
     "output_type": "stream",
     "text": [
      "1045.5\n"
     ]
    }
   ],
   "source": [
    "def grades_sum(scores):\n",
    "    total = 0\n",
    "    for score in scores:\n",
    "        total += score\n",
    "    return total\n",
    "\n",
    "print (grades_sum(grades))"
   ]
  },
  {
   "cell_type": "markdown",
   "metadata": {},
   "source": [
    "## Computing the Average\n",
    "The average test grade can be found by dividing the sum of the grades by the total number of grades.\n",
    "\n",
    "Luckily, we just created an awesome function, grades_sum to compute the sum.\n",
    "\n",
    "### Instructions\n",
    "1. Define a function, grades_average, below the grades_sum function that does the following:\n",
    "\n",
    "* Has one argument, grades_input, a list\n",
    "* Calls grades_sum with grades_input\n",
    "* Computes the average of the grades by dividing that sum by float(len(grades_input)).\n",
    "* Returns the average.\n",
    "* Call the newly created grades_average function with the list of grades and print the result."
   ]
  },
  {
   "cell_type": "code",
   "execution_count": 6,
   "metadata": {},
   "outputs": [
    {
     "name": "stdout",
     "output_type": "stream",
     "text": [
      "80.42307692307692\n"
     ]
    }
   ],
   "source": [
    "def grades_average(grades_input):\n",
    "       return grades_sum(grades_input) / (len(grades_input))\n",
    "    \n",
    "print (grades_average(grades))"
   ]
  },
  {
   "cell_type": "markdown",
   "metadata": {},
   "source": [
    "## Review\n",
    "Great work creating the capability to compute the average of the test grades.\n",
    "\n",
    "We’re going to use the average for computing the variance. The variance allows us to see how widespread the grades were from the average.\n"
   ]
  },
  {
   "cell_type": "code",
   "execution_count": null,
   "metadata": {},
   "outputs": [],
   "source": [
    "print \"Time to conquer the variance!\""
   ]
  },
  {
   "cell_type": "markdown",
   "metadata": {},
   "source": [
    "## The Variance\n",
    "Let’s see how the grades varied against the average. This is called computing the variance.\n",
    "\n",
    "A very large variance means that the students’ grades were all over the place, while a small variance (relatively close to the average) means that the majority of the students had similar grades.\n",
    "\n",
    "### Instructions\n",
    "1. On line 18, define a new function called grades_variance that accepts one argument, scores, a list.\n",
    "\n",
    "* First, create a variable average and store the result of calling grades_average(scores).\n",
    "\n",
    "* Next, create another variable variance and set it to zero. We will use this as a rolling sum.\n",
    "\n",
    "* for each score in scores: Compute its squared difference: (average - score) ** 2 and add that to variance.\n",
    "\n",
    "* Divide the total variance by the number of scores.\n",
    "\n",
    "* Then, return that result.\n",
    "\n",
    "Finally, after your function code, print grades_variance(grades)."
   ]
  },
  {
   "cell_type": "code",
   "execution_count": 7,
   "metadata": {},
   "outputs": [
    {
     "name": "stdout",
     "output_type": "stream",
     "text": [
      "334.0710059171598\n"
     ]
    }
   ],
   "source": [
    "def grades_variance(scores):\n",
    "    variance = 0\n",
    "    for score in scores:\n",
    "        sq_resid = (grades_average(scores) - score)**2\n",
    "        variance += sq_resid\n",
    "    variance = variance / len(scores)\n",
    "    return variance\n",
    "\n",
    "print(grades_variance(grades))"
   ]
  },
  {
   "cell_type": "markdown",
   "metadata": {},
   "source": [
    "## Standard Deviation\n",
    "Great job computing the variance! The last statistic will be much simpler: standard deviation.\n",
    "\n",
    "The standard deviation is the square root of the variance. You can calculate the square root by raising the number to the one-half power.\n",
    "\n",
    "### Instructions\n",
    "1. Define a function, grades_std_deviation, that takes one argument called variance.\n",
    "\n",
    "* return the result of variance ** 0.5\n",
    "\n",
    "After the function, create a new variable called variance and store the result of calling grades_variance(grades).\n",
    "\n",
    "Finally print the result of calling grades_std_deviation(variance)."
   ]
  },
  {
   "cell_type": "code",
   "execution_count": 10,
   "metadata": {},
   "outputs": [
    {
     "name": "stdout",
     "output_type": "stream",
     "text": [
      "18.277609414722697\n"
     ]
    }
   ],
   "source": [
    "def grades_std_deviation(grades):\n",
    "    variance = grades_variance(grades)\n",
    "    return variance ** 0.5\n",
    "\n",
    "print(grades_std_deviation(grades))"
   ]
  },
  {
   "cell_type": "markdown",
   "metadata": {},
   "source": [
    "## Review\n",
    "You’ve done a great job completing this program.\n",
    "\n",
    "We’ve created quite a few meaningful functions. Namely, we’ve created helper functions to print a list of grades, compute the sum, average, variance, and standard deviation about a set of grades.\n",
    "\n",
    "Let’s wrap up by printing out all of the statistics.\n",
    "\n",
    "Who needs to pay for grade calculation software when you can write your own? :)\n",
    "\n",
    "### Instructions\n",
    "1. Print out the following:\n",
    "\n",
    "* all of the grades\n",
    "* sum of grades\n",
    "* average grade\n",
    "* variance\n",
    "* standard deviation"
   ]
  },
  {
   "cell_type": "code",
   "execution_count": 11,
   "metadata": {},
   "outputs": [
    {
     "name": "stdout",
     "output_type": "stream",
     "text": [
      "[100, 100, 90, 40, 80, 100, 85, 70, 90, 65, 90, 85, 50.5]\n",
      "1045.5\n",
      "80.42307692307692\n",
      "334.0710059171598\n",
      "18.277609414722697\n"
     ]
    }
   ],
   "source": [
    "print (grades)\n",
    "print (grades_sum(grades))\n",
    "print (grades_average(grades))\n",
    "print (grades_variance(grades))\n",
    "print (grades_std_deviation(grades))"
   ]
  },
  {
   "cell_type": "code",
   "execution_count": null,
   "metadata": {},
   "outputs": [],
   "source": []
  }
 ],
 "metadata": {
  "kernelspec": {
   "display_name": "Python 3",
   "language": "python",
   "name": "python3"
  },
  "language_info": {
   "codemirror_mode": {
    "name": "ipython",
    "version": 3
   },
   "file_extension": ".py",
   "mimetype": "text/x-python",
   "name": "python",
   "nbconvert_exporter": "python",
   "pygments_lexer": "ipython3",
   "version": "3.7.3"
  }
 },
 "nbformat": 4,
 "nbformat_minor": 2
}
