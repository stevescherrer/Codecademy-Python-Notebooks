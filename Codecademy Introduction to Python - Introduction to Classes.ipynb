{
 "cells": [
  {
   "cell_type": "markdown",
   "metadata": {},
   "source": [
    "## Why Use Classes?\n",
    "Python is an object-oriented programming language, which means it manipulates programming constructs called objects. You can think of an object as a single data structure that contains data as well as functions; the functions of an object are called its methods. For example, any time you call"
   ]
  },
  {
   "cell_type": "code",
   "execution_count": null,
   "metadata": {},
   "outputs": [],
   "source": [
    "len(\"Eric\")"
   ]
  },
  {
   "cell_type": "markdown",
   "metadata": {},
   "source": [
    "Python is checking to see whether the string object you passed it has a length, and if it does, it returns the value associated with that attribute. When you call"
   ]
  },
  {
   "cell_type": "code",
   "execution_count": null,
   "metadata": {},
   "outputs": [],
   "source": [
    "my_dict.items()"
   ]
  },
  {
   "cell_type": "markdown",
   "metadata": {},
   "source": [
    "Python checks to see if my_dict has an items() method (which all dictionaries have) and executes that method if it finds it.\n",
    "\n",
    "But what makes \"Eric\" a string and my_dict a dictionary? The fact that they’re instances of the str and dict classes, respectively. A class is just a way of organizing and producing objects with similar attributes and methods.\n",
    "\n",
    "### Instructions\n",
    "1. Check out the code in the editor to the right. We’ve defined our own class, Fruit, and created a lemon instance. When you’re ready, click Run to get started creating classes and objects of your own."
   ]
  },
  {
   "cell_type": "code",
   "execution_count": 3,
   "metadata": {},
   "outputs": [
    {
     "name": "stdout",
     "output_type": "stream",
     "text": [
      "I'm a yellow lemon and I taste sour.\n",
      "Yep! I'm edible.\n"
     ]
    }
   ],
   "source": [
    "class Fruit(object):\n",
    "  \"\"\"A class that makes various tasty fruits.\"\"\"\n",
    "  def __init__(self, name, color, flavor, poisonous):\n",
    "    self.name = name\n",
    "    self.color = color\n",
    "    self.flavor = flavor\n",
    "    self.poisonous = poisonous\n",
    "\n",
    "  def description(self):\n",
    "    print (\"I'm a {} {} and I taste {}.\".format(self.color, self.name, self.flavor))\n",
    "\n",
    "  def is_edible(self):\n",
    "    if not self.poisonous:\n",
    "      print (\"Yep! I'm edible.\")\n",
    "    else:\n",
    "      print (\"Don't eat me! I am super poisonous.\")\n",
    "\n",
    "lemon = Fruit(\"lemon\", \"yellow\", \"sour\", False)\n",
    "\n",
    "lemon.description()\n",
    "lemon.is_edible()"
   ]
  },
  {
   "cell_type": "markdown",
   "metadata": {},
   "source": [
    "## Class Syntax\n",
    "A basic class consists only of the class keyword, the name of the class, and the class from which the new class inherits in parentheses. (We’ll get to inheritance soon.) For now, our classes will inherit from the object class, like so:"
   ]
  },
  {
   "cell_type": "code",
   "execution_count": null,
   "metadata": {},
   "outputs": [],
   "source": [
    "class NewClass(object):\n",
    "  # Class magic here"
   ]
  },
  {
   "cell_type": "markdown",
   "metadata": {},
   "source": [
    "This gives them the powers and abilities of a Python object. By convention, user-defined Python class names start with a capital letter.\n",
    "\n",
    "### Instructions\n",
    "1. Create a class called Animal in the editor. For now, in the body of your class, use the pass keyword. (pass doesn’t do anything, but it’s useful as a placeholder in areas of your code where Python expects an expression.)"
   ]
  },
  {
   "cell_type": "code",
   "execution_count": 5,
   "metadata": {},
   "outputs": [],
   "source": [
    "class Animal(object):\n",
    "    pass"
   ]
  },
  {
   "cell_type": "markdown",
   "metadata": {},
   "source": [
    "## Classier Classes\n",
    "We’d like our classes to do more than… well, nothing, so we’ll have to replace our pass with something else.\n",
    "\n",
    "You may have noticed in our example back in the first exercise that we started our class definition off with an odd-looking function: __init__(). This function is required for classes, and it’s used to initialize the objects it creates. __init__() always takes at least one argument, self, that refers to the object being created. You can think of __init__() as the function that “boots up” each object the class creates.\n",
    "### Instructions\n",
    "1. Remove the pass statement in your class definition, then go ahead and define an __init__() function for your Animal class. Pass it the argument self for now; we’ll explain how this works in greater detail in the next section. Finally, put the pass into the body of the __init__() definition, since it will expect an indented block."
   ]
  },
  {
   "cell_type": "code",
   "execution_count": 6,
   "metadata": {},
   "outputs": [],
   "source": [
    "class Animal(object):\n",
    "    def __init__(self):\n",
    "        pass"
   ]
  },
  {
   "cell_type": "markdown",
   "metadata": {},
   "source": [
    "## Let's Not Get Too Selfish\n",
    "Excellent! Let’s make one more tweak to our class definition, then go ahead and instantiate (create) our first object.\n",
    "\n",
    "So far, __init__() only takes one parameter: self. This is a Python convention; there’s nothing magic about the word self. However, it’s overwhelmingly common to use self as the first parameter in __init__(), so you should do this so that other people will understand your code.\n",
    "\n",
    "The part that is magic is the fact that self is the first parameter passed to __init__(). Python will use the first parameter that __init__() receives to refer to the object being created; this is why it’s often called self, since this parameter gives the object being created its identity.\n",
    "\n",
    "### Instructions\n",
    "1. Let’s do two things in the editor:\n",
    "\n",
    "*Pass __init__() a second parameter, name.\n",
    "*In the body of __init__(), let the function know that name refers to the created object’s name by typing self.name = name. (This will become crystal clear in the next section.)"
   ]
  },
  {
   "cell_type": "code",
   "execution_count": null,
   "metadata": {},
   "outputs": [],
   "source": [
    "class Animal(object):\n",
    "    def __init__(self, name):\n",
    "        self.name = name"
   ]
  },
  {
   "cell_type": "markdown",
   "metadata": {},
   "source": [
    "## Instantiating Your First Object\n",
    "Perfect! Now we’re ready to start creating objects.\n",
    "\n",
    "We can access attributes of our objects using dot notation. Here’s how it works:"
   ]
  },
  {
   "cell_type": "code",
   "execution_count": null,
   "metadata": {},
   "outputs": [],
   "source": [
    "class Square(object):\n",
    "  def __init__(self):\n",
    "    self.sides = 4\n",
    "\n",
    "my_shape = Square()\n",
    "print (my_shape.sides)"
   ]
  },
  {
   "cell_type": "markdown",
   "metadata": {},
   "source": [
    "1. First we create a class named Square with an attribute sides.\n",
    "2. Outside the class definition, we create a new instance of Square named my_shape and access that attribute using my_shape.sides.\n",
    "\n",
    "### Instructions\n",
    "1. Outside the Animal class definition, create a variable named zebra and set it equal to Animal(\"Jeffrey\").\n",
    "\n",
    "Then print out zebra‘s name."
   ]
  },
  {
   "cell_type": "code",
   "execution_count": null,
   "metadata": {},
   "outputs": [],
   "source": [
    "zebra = Animal(\"Jeffrey\")\n",
    "print(zebra.name)"
   ]
  },
  {
   "cell_type": "markdown",
   "metadata": {},
   "source": [
    "## More on __init__() and self\n",
    "Now that you’re starting to understand how classes and objects work, it’s worth delving a bit more into __init__() and self. They can be confusing!\n",
    "\n",
    "As mentioned, you can think of __init__() as the method that “boots up” a class’ instance object: the init bit is short for “initialize.”\n",
    "\n",
    "The first argument __init__() gets is used to refer to the instance object, and by convention, that argument is called self. If you add additional arguments—for instance, a name and age for your animal—setting each of those equal to self.name and self.age in the body of __init__() will make it so that when you create an instance object of your Animal class, you need to give each instance a name and an age, and those will be associated with the particular instance you create.\n",
    "\n",
    "### Instructions\n",
    "1. Check out the examples in the editor. See how __init__() “boots up” each object to expect a name and an age, then uses self.name and self.age to assign those names and ages to each object? Add a third attribute, is_hungry to __init__(), and click Run to see the results."
   ]
  },
  {
   "cell_type": "code",
   "execution_count": 8,
   "metadata": {},
   "outputs": [
    {
     "name": "stdout",
     "output_type": "stream",
     "text": [
      "Jeffrey 2 True\n",
      "Bruce 1 False\n",
      "Chad 7 True\n"
     ]
    }
   ],
   "source": [
    "# Class definition\n",
    "class Animal(object):\n",
    "  \"\"\"Makes cute animals.\"\"\"\n",
    "  # For initializing our instance objects\n",
    "  def __init__(self, name, age, is_hungry):\n",
    "    self.name = name\n",
    "    self.age = age\n",
    "    self.is_hungry = is_hungry\n",
    "\n",
    "\n",
    "\n",
    "# Note that self is only used in the __init__()\n",
    "# function definition; we don't need to pass it\n",
    "# to our instance objects.\n",
    "\n",
    "zebra = Animal(\"Jeffrey\", 2, True)\n",
    "giraffe = Animal(\"Bruce\", 1, False)\n",
    "panda = Animal(\"Chad\", 7, True)\n",
    "\n",
    "print (zebra.name, zebra.age, zebra.is_hungry)\n",
    "print (giraffe.name, giraffe.age, giraffe.is_hungry)\n",
    "print (panda.name, panda.age, panda.is_hungry)"
   ]
  },
  {
   "cell_type": "markdown",
   "metadata": {},
   "source": [
    "## Class Scope\n",
    "Another important aspect of Python classes is scope. The scope of a variable is the context in which it’s visible to the program.\n",
    "\n",
    "It may surprise you to learn that not all variables are accessible to all parts of a Python program at all times. When dealing with classes, you can have variables that are available everywhere (global variables), variables that are only available to members of a certain class (member variables), and variables that are only available to particular instances of a class (instance variables).\n",
    "\n",
    "The same goes for functions: some are available everywhere, some are only available to members of a certain class, and still others are only available to particular instance objects.\n",
    "\n",
    "### Instructions\n",
    "1. Check out the code in the editor. Note that each individual animal gets its own name and age (since they’re all initialized individually), but they all have access to the member variable is_alive, since they’re all members of the Animal class. Click Run to see the output!"
   ]
  },
  {
   "cell_type": "code",
   "execution_count": 9,
   "metadata": {},
   "outputs": [
    {
     "name": "stdout",
     "output_type": "stream",
     "text": [
      "Jeffrey 2 True\n",
      "Bruce 1 True\n",
      "Chad 7 True\n"
     ]
    }
   ],
   "source": [
    "class Animal(object):\n",
    "  \"\"\"Makes cute animals.\"\"\"\n",
    "  is_alive = True\n",
    "  def __init__(self, name, age):\n",
    "    self.name = name\n",
    "    self.age = age\n",
    "\n",
    "zebra = Animal(\"Jeffrey\", 2)\n",
    "giraffe = Animal(\"Bruce\", 1)\n",
    "panda = Animal(\"Chad\", 7)\n",
    "\n",
    "print (zebra.name, zebra.age, zebra.is_alive)\n",
    "print (giraffe.name, giraffe.age, giraffe.is_alive)\n",
    "print (panda.name, panda.age, panda.is_alive)\n",
    "\n"
   ]
  },
  {
   "cell_type": "markdown",
   "metadata": {},
   "source": [
    "## A Methodical Approach\n",
    "When a class has its own functions, those functions are called methods. You’ve already seen one such method: __init__(). But you can also define your own methods!\n",
    "\n",
    "### Instructions\n",
    "1. Add a method, description, to your Animal class. Using two separate print statements, it should print out the name and age of the animal it’s called on. Then, create an instance of Animal, hippo (with whatever name and age you like), and call its description method."
   ]
  },
  {
   "cell_type": "code",
   "execution_count": 12,
   "metadata": {},
   "outputs": [
    {
     "name": "stdout",
     "output_type": "stream",
     "text": [
      "Chris 10\n",
      "None\n"
     ]
    }
   ],
   "source": [
    "class Animal(object):\n",
    "    \"\"\"Makes cute animals.\"\"\"\n",
    "    is_alive = True\n",
    "    def __init__(self, name, age):\n",
    "        self.name = name\n",
    "        self.age = age\n",
    "  # Add your method here!\n",
    "    def description(self):\n",
    "        print(self.name) \n",
    "        print(self.age)\n",
    "\n",
    "hippo = Animal('Chris', 10)\n",
    "print(hippo.description())"
   ]
  },
  {
   "cell_type": "markdown",
   "metadata": {},
   "source": [
    "## They're Multiplying!\n",
    "A class can have any number of member variables. These are variables that are available to all members of a class."
   ]
  },
  {
   "cell_type": "code",
   "execution_count": null,
   "metadata": {},
   "outputs": [],
   "source": [
    "hippo = Animal(\"Jake\", 12)\n",
    "cat = Animal(\"Boots\", 3)\n",
    "print hippo.is_alive\n",
    "hippo.is_alive = False\n",
    "print hippo.is_alive\n",
    "print cat.is_alive"
   ]
  },
  {
   "cell_type": "markdown",
   "metadata": {},
   "source": [
    "1. In the example above, we create two instances of an Animal.\n",
    "2. Then we print out True, the default value stored in hippo’s is_alive member variable.\n",
    "3. Next, we set that to False and print it out to make sure.\n",
    "4. Finally, we print out True, the value stored in cat’s is_alive member variable. We only changed the variable in hippo, not in cat.\n",
    "Let’s add another member variable to Animal.\n",
    "\n",
    "### Instructions\n",
    "1. After line 3, add a second member variable called health that contains the string \"good\".\n",
    "\n",
    "* Then, create two new Animals: sloth and ocelot. (Give them whatever names and ages you like.)\n",
    "\n",
    "* Finally, on three separate lines, print out the health of your hippo, sloth, and ocelot."
   ]
  },
  {
   "cell_type": "code",
   "execution_count": null,
   "metadata": {},
   "outputs": [],
   "source": [
    "class Animal(object):\n",
    "    \"\"\"Makes cute animals.\"\"\"\n",
    "    is_alive = True\n",
    "    health = \"good\"\n",
    "    def __init__(self, name, age):\n",
    "        self.name = name\n",
    "        self.age = age\n",
    "  # Add your method here!\n",
    "    def description(self):\n",
    "        print(self.name) \n",
    "        print(self.age)\n",
    "\n",
    "hippo = Animal('Chris', 10)\n",
    "print(hippo.description())\n",
    "sloth = Animal('Dave', 22)\n",
    "ocelot = Animal('alejandro', 12)\n",
    "\n",
    "print(hippo.health)\n",
    "print(sloth.health)\n",
    "print(ocelot.health)"
   ]
  },
  {
   "cell_type": "markdown",
   "metadata": {},
   "source": [
    "## It's Not All Animals and Fruits\n",
    "Classes like Animal and Fruit make it easy to understand the concepts of classes and instances, but you probably won’t see many zebras or lemons in real-world programs.\n",
    "\n",
    "However, classes and objects are often used to model real-world objects. The code in the editor is a more realistic demonstration of the kind of classes and objects you might find in commercial software. Here we have a basic ShoppingCart class for creating shopping cart objects for website customers; though basic, it’s similar to what you’d see in a real program.\n",
    "\n",
    "### Instructions\n",
    "1. Create an instance of ShoppingCart called my_cart. Initialize it with any values you like, then use the add_item method to add an item to your cart."
   ]
  },
  {
   "cell_type": "code",
   "execution_count": 14,
   "metadata": {},
   "outputs": [
    {
     "name": "stdout",
     "output_type": "stream",
     "text": [
      "pineapple added.\n"
     ]
    }
   ],
   "source": [
    "class ShoppingCart(object):\n",
    "    \"\"\"Creates shopping cart objects\n",
    "      for users of our fine website.\"\"\"\n",
    "    items_in_cart = {}\n",
    "    def __init__(self, customer_name):\n",
    "        self.customer_name = customer_name\n",
    "\n",
    "    def add_item(self, product, price):\n",
    "        \"\"\"Add product to the cart.\"\"\"\n",
    "        if not product in self.items_in_cart:\n",
    "            self.items_in_cart[product] = price\n",
    "            print (product + \" added.\")\n",
    "        else:\n",
    "            print (product + \" is already in the cart.\")\n",
    "\n",
    "    def remove_item(self, product):\n",
    "        \"\"\"Remove product from the cart.\"\"\"\n",
    "        if product in self.items_in_cart:\n",
    "            del self.items_in_cart[product]\n",
    "            print (product + \" removed.\")\n",
    "        else:\n",
    "            print (product + \" is not in the cart.\")\n",
    "\n",
    "my_cart = ShoppingCart('Steve\\'s')\n",
    "my_cart.add_item('pineapple', 2.99)"
   ]
  },
  {
   "cell_type": "markdown",
   "metadata": {},
   "source": [
    "## Warning: Here Be Dragons\n",
    "Inheritance is a tricky concept, so let’s go through it step by step.\n",
    "\n",
    "Inheritance is the process by which one class takes on the attributes and methods of another, and it’s used to express an is-a relationship. For example, a Panda is a bear, so a Panda class could inherit from a Bear class. However, a Toyota is not a Tractor, so it shouldn’t inherit from the Tractor class (even if they have a lot of attributes and methods in common). Instead, both Toyota and Tractor could ultimately inherit from the same Vehicle class.\n",
    "\n",
    "### Instructions\n",
    "1. Check out the code in the editor. We’ve defined a class, Customer, as well as a ReturningCustomer class that inherits from Customer. Note that we don’t define the display_cart method in the body of ReturningCustomer, but it will still have access to that method via inheritance. Click Run to see for yourself!"
   ]
  },
  {
   "cell_type": "code",
   "execution_count": 15,
   "metadata": {},
   "outputs": [
    {
     "name": "stdout",
     "output_type": "stream",
     "text": [
      "I'm a string that stands in for the contents of your shopping cart!\n",
      "I'm a string that stands in for your order history!\n"
     ]
    }
   ],
   "source": [
    "class Customer(object):\n",
    "  \"\"\"Produces objects that represent customers.\"\"\"\n",
    "  def __init__(self, customer_id):\n",
    "    self.customer_id = customer_id\n",
    "\n",
    "  def display_cart(self):\n",
    "    print (\"I'm a string that stands in for the contents of your shopping cart!\")\n",
    "\n",
    "class ReturningCustomer(Customer):\n",
    "  \"\"\"For customers of the repeat variety.\"\"\"\n",
    "  def display_order_history(self):\n",
    "    print (\"I'm a string that stands in for your order history!\")\n",
    "monty_python = ReturningCustomer(\"ID: 12345\")\n",
    "monty_python.display_cart()\n",
    "monty_python.display_order_history()\n",
    "\n"
   ]
  },
  {
   "cell_type": "markdown",
   "metadata": {},
   "source": [
    "Inheritance Syntax\n",
    "In Python, inheritance works like this:"
   ]
  },
  {
   "cell_type": "code",
   "execution_count": null,
   "metadata": {},
   "outputs": [],
   "source": [
    "class DerivedClass(BaseClass): \n",
    "    # code goes here"
   ]
  },
  {
   "cell_type": "code",
   "execution_count": null,
   "metadata": {},
   "outputs": [],
   "source": [
    "where DerivedClass is the new class you’re making and BaseClass is the class from which that new class inherits.\n",
    "\n",
    "### Instructions\n",
    "1. On lines 1-4, we’ve created a class named Shape.\n",
    "\n",
    "* Create your own class, Triangle, that inherits from Shape, like this:"
   ]
  },
  {
   "cell_type": "code",
   "execution_count": null,
   "metadata": {},
   "outputs": [],
   "source": [
    "class Triangle(Shape):\n",
    "# code goes here"
   ]
  },
  {
   "cell_type": "code",
   "execution_count": null,
   "metadata": {},
   "outputs": [],
   "source": [
    "* Inside the Triangle class, write an __init__() function that takes four arguments: self, side1, side2, and side3.\n",
    "* Inside the __init__() function, set self.side1 = side1, self.side2 = side2, and self.side3 = side3."
   ]
  },
  {
   "cell_type": "code",
   "execution_count": null,
   "metadata": {},
   "outputs": [],
   "source": [
    "class Shape(object):\n",
    "  \"\"\"Makes shapes!\"\"\"\n",
    "  def __init__(self, number_of_sides):\n",
    "    self.number_of_sides = number_of_sides\n",
    "\n",
    "# Add your Triangle class below!\n",
    "class Triangle(Shape):\n",
    "    __init__(self, side1, side2, side3):\n",
    "        self.side1 = side1\n",
    "        self.side2 = side2\n",
    "        self.side3 = side3"
   ]
  },
  {
   "cell_type": "markdown",
   "metadata": {},
   "source": [
    "## Override!\n",
    "Sometimes you’ll want one class that inherits from another to not only take on the methods and attributes of its parent, but to override one or more of them."
   ]
  },
  {
   "cell_type": "code",
   "execution_count": 18,
   "metadata": {},
   "outputs": [
    {
     "name": "stdout",
     "output_type": "stream",
     "text": [
      "Hello, Emily\n",
      "Get back to work, Steve!\n"
     ]
    }
   ],
   "source": [
    "class Employee(object):\n",
    "  def __init__(self, name):\n",
    "    self.name = name\n",
    "  def greet(self, other):\n",
    "    print (\"Hello, {}\".format(other.name))\n",
    "\n",
    "class CEO(Employee):\n",
    "  def greet(self, other):\n",
    "    print (\"Get back to work, {}!\".format(other.name))\n",
    "\n",
    "ceo = CEO(\"Emily\")\n",
    "emp = Employee(\"Steve\")\n",
    "emp.greet(ceo)\n",
    "# Hello, Emily\n",
    "ceo.greet(emp)\n",
    "# Get back to work, Steve!"
   ]
  },
  {
   "cell_type": "markdown",
   "metadata": {},
   "source": [
    "Rather than have a separate greet_underling method for our CEO, we override (or re-create) the greet method on top of the base Employee.greet method. This way, we don’t need to know what type of Employee we have before we greet another Employee.\n",
    "\n",
    "### Instructions\n",
    "1. Create a new class, PartTimeEmployee, that inherits from Employee.\n",
    "\n",
    "* Give your derived class a calculate_wage method that overrides Employee‘s. It should take self and hours as arguments.\n",
    "\n",
    "* Because PartTimeEmployee.calculate_wage overrides Employee.calculate_wage, it still needs to set self.hours = hours.\n",
    "\n",
    "* It should return the part-time employee’s number of hours worked multiplied by 12.00 (that is, they get $12.00 per hour instead of $20.00)."
   ]
  },
  {
   "cell_type": "code",
   "execution_count": null,
   "metadata": {},
   "outputs": [],
   "source": [
    "class Employee(object):\n",
    "  \"\"\"Models real-life employees!\"\"\"\n",
    "    def __init__(self, employee_name):\n",
    "        self.employee_name = employee_name\n",
    "\n",
    "    def calculate_wage(self, hours):\n",
    "        self.hours = hours\n",
    "        return hours * 20.00\n",
    "\n",
    "# Add your code below!\n",
    "class PartTimeEmployee(Employee):\n",
    "    def calculate_wage(self, hours):\n",
    "        self.hours = hours\n",
    "        return hours * 12.00"
   ]
  },
  {
   "cell_type": "markdown",
   "metadata": {},
   "source": [
    "## This Looks Like a Job For...\n",
    "On the flip side, sometimes you’ll be working with a derived class (or subclass) and realize that you’ve overwritten a method or attribute defined in that class’ base class (also called a parent or superclass) that you actually need. Have no fear! You can directly access the attributes or methods of a superclass with Python’s built-in super call.\n",
    "\n",
    "The syntax looks like this:"
   ]
  },
  {
   "cell_type": "code",
   "execution_count": null,
   "metadata": {},
   "outputs": [],
   "source": [
    "class Derived(Base):\n",
    "    def m(self):\n",
    "        return super(Derived, self).m()"
   ]
  },
  {
   "cell_type": "markdown",
   "metadata": {},
   "source": [
    "Where m() is a method from the base class.\n",
    "\n",
    "### Instructions\n",
    "1.First, inside your PartTimeEmployee class:\n",
    "\n",
    "* Add a new method called full_time_wage with the arguments self and hours.\n",
    "* That method should return the result of a super call to the calculate_wage method of PartTimeEmployee‘s parent class. Use the example above for help.\n",
    "\n",
    "Then, after your class:\n",
    "\n",
    "* Create an instance of the PartTimeEmployee class called milton. Don’t forget to give it a name.\n",
    "* Finally, print out the result of calling his full_time_wage method. You should see his wage printed out at $20.00 per hour! (That is, for 10 hours, the result should be 200.00.)"
   ]
  },
  {
   "cell_type": "code",
   "execution_count": 21,
   "metadata": {},
   "outputs": [
    {
     "name": "stdout",
     "output_type": "stream",
     "text": [
      "200.0\n"
     ]
    }
   ],
   "source": [
    "class Employee(object):\n",
    "    def __init__(self, employee_name):\n",
    "        self.employee_name = employee_name\n",
    "\n",
    "    def calculate_wage(self, hours):\n",
    "        self.hours = hours\n",
    "        return hours * 20.00\n",
    "\n",
    "# Add your code below!\n",
    "class PartTimeEmployee(Employee):\n",
    "    def calculate_wage(self, hours):\n",
    "        self.hours = hours\n",
    "        return hours * 12.00\n",
    "\n",
    "    def full_time_wage(self, hours):\n",
    "        return super(PartTimeEmployee, self).calculate_wage(hours)\n",
    "\n",
    "milton = PartTimeEmployee('Milton')\n",
    "print (milton.full_time_wage(10))"
   ]
  },
  {
   "cell_type": "markdown",
   "metadata": {},
   "source": [
    "## Class Basics\n",
    "First things first: let’s create a class to work with.\n",
    "### Instructions\n",
    "1. Create a class, Triangle. Its __init__() method should take self, angle1, angle2, and angle3 as arguments. Make sure to set these appropriately in the body of the __init__() method (see the Hint for more)."
   ]
  },
  {
   "cell_type": "code",
   "execution_count": 22,
   "metadata": {},
   "outputs": [],
   "source": [
    "class Triangle(object):\n",
    "    def __init__(self, angle1, angle2, angle3):\n",
    "        self.angle1 = angle1\n",
    "        self.angle2 = angle2\n",
    "        self.angle3 = angle3"
   ]
  },
  {
   "cell_type": "markdown",
   "metadata": {},
   "source": [
    "## Class It Up\n",
    "Great! Now let’s add a member variable and a method to our class.\n",
    "\n",
    "### Instructions\n",
    "1. Inside the Triangle class:\n",
    "\n",
    "Create a variable named number_of_sides and set it equal to 3.\n",
    "Create a method named check_angles. The sum of a triangle’s three angles should return True if the sum of self.angle1, self.angle2, and self.angle3 is equal 180, and False otherwise."
   ]
  },
  {
   "cell_type": "code",
   "execution_count": 26,
   "metadata": {},
   "outputs": [],
   "source": [
    "class Triangle(object):\n",
    "    number_of_sides = 3\n",
    "    def __init__(self, angle1, angle2, angle3):\n",
    "        self.angle1 = angle1\n",
    "        self.angle2 = angle2\n",
    "        self.angle3 = angle3\n",
    "    \n",
    "    def check_angles(self):\n",
    "        return self.angle1 + self.angle2 + self.angle3 == 180"
   ]
  },
  {
   "cell_type": "markdown",
   "metadata": {},
   "source": [
    "## Instantiate an Object\n",
    "Let’s go ahead and create an instance of our Triangle class.\n",
    "### Instructions\n",
    "1. Create a variable named my_triangle and set it equal to a new instance of your Triangle class. Pass it three angles that sum to 180 (e.g. 90, 30, 60).\n",
    "\n",
    "Print out my_triangle.number_of_sides\n",
    "\n",
    "Print out my_triangle.check_angles()"
   ]
  },
  {
   "cell_type": "code",
   "execution_count": 28,
   "metadata": {},
   "outputs": [
    {
     "name": "stdout",
     "output_type": "stream",
     "text": [
      "3\n",
      "True\n"
     ]
    }
   ],
   "source": [
    "my_triangle = Triangle(30, 60, 90)\n",
    "print(my_triangle.number_of_sides)\n",
    "print(my_triangle.check_angles())"
   ]
  },
  {
   "cell_type": "markdown",
   "metadata": {},
   "source": [
    "## Inheritance\n",
    "Finally, let’s create an Equilateral class that inherits from our Triangle class. (An equilateral triangle is a triangle whose angles are all 60˚, which also means that its three sides are equal in length.)\n",
    "\n",
    "\n",
    "### Instructions\n",
    "1. Create a class named Equilateral that inherits from Triangle.\n",
    "\n",
    "Inside Equilateral, create a member variable named angle and set it equal to 60.\n",
    "\n",
    "Create an __init__() function with only the parameter self, and set self.angle1, self.angle2, and self.angle3 equal to self.angle (since an equilateral triangle’s angles will always be 60˚)."
   ]
  },
  {
   "cell_type": "code",
   "execution_count": 30,
   "metadata": {},
   "outputs": [],
   "source": [
    "class Equilateral(Triangle): \n",
    "    angle = 60\n",
    "    def __init__(self): \n",
    "        self.angle1 = self.angle \n",
    "        self.angle2 = self.angle\n",
    "        self.angle3 = self.angel"
   ]
  },
  {
   "cell_type": "code",
   "execution_count": null,
   "metadata": {},
   "outputs": [],
   "source": []
  }
 ],
 "metadata": {
  "kernelspec": {
   "display_name": "Python 3",
   "language": "python",
   "name": "python3"
  },
  "language_info": {
   "codemirror_mode": {
    "name": "ipython",
    "version": 3
   },
   "file_extension": ".py",
   "mimetype": "text/x-python",
   "name": "python",
   "nbconvert_exporter": "python",
   "pygments_lexer": "ipython3",
   "version": "3.7.3"
  }
 },
 "nbformat": 4,
 "nbformat_minor": 2
}
