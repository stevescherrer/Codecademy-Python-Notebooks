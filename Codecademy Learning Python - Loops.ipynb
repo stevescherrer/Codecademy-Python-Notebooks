{
 "cells": [
  {
   "cell_type": "markdown",
   "metadata": {},
   "source": [
    "## While you're here\n",
    "The while loop is similar to an if statement: it executes the code inside of it if some condition is true. The difference is that the while loop will continue to execute as long as the condition is true. In other words, instead of executing if something is true, it executes while that thing is true.\n",
    "\n",
    "Line 6 decides when the loop will be executed. So, “as long as count is less than 5,” the loop will continue to execute. Line 8 increases count by 1. This happens over and over until count equals 5.\n",
    "\n",
    "### Instructions\n",
    "1. Change the loop so that it counts from 0 up to 9 (inclusive).\n",
    "\n",
    "Be careful not to alter or remove the count += 1 statement. If your program has no way to increase count, your loop could go on forever and become an infinite loop which could crash your computer/browser!\n"
   ]
  },
  {
   "cell_type": "code",
   "execution_count": null,
   "metadata": {},
   "outputs": [],
   "source": [
    "count = 0\n",
    "\n",
    "if count < 9:\n",
    "  print \"Hello, I am an if statement and count is\", count\n",
    "\n",
    "while count <= 9:\n",
    "  print \"Hello, I am a while and count is\", count\n",
    "  count += 1"
   ]
  },
  {
   "cell_type": "markdown",
   "metadata": {},
   "source": [
    "## Condition\n",
    "The condition is the expression that decides whether the loop is going to continue being executed or not. There are 5 steps to this program:\n",
    "\n",
    "1. The loop_condition variable is set to True\n",
    "2. The while loop checks to see if loop_condition is True. It is, so the loop is entered.\n",
    "3. The print statement is executed.\n",
    "4. The variable loop_condition is set to False.\n",
    "5. The while loop again checks to see if loop_condition is True. It is not, so the loop is not executed a second time.\n",
    "\n",
    "## Instructions\n",
    "1. See how the loop checks its condition, and when it stops executing? When you think you’ve got the hang of it, click Run to continue."
   ]
  },
  {
   "cell_type": "code",
   "execution_count": 1,
   "metadata": {},
   "outputs": [
    {
     "name": "stdout",
     "output_type": "stream",
     "text": [
      "I am a loop\n"
     ]
    }
   ],
   "source": [
    "loop_condition = True\n",
    "\n",
    "while loop_condition:\n",
    "  print (\"I am a loop\")\n",
    "  loop_condition = False"
   ]
  },
  {
   "cell_type": "markdown",
   "metadata": {},
   "source": [
    "## While you're at it\n",
    "Inside a while loop, you can do anything you could do elsewhere, including arithmetic operations.\n",
    "### Instructions\n",
    "1. Create a while loop that prints out all the numbers from 1 to 10 squared (1, 4, 9, 16, … , 100), each on their own line.\n",
    "\n",
    "* Fill in the blank space so that our while loop goes from 1 to 10 inclusive.\n",
    "* Inside the loop, print the value of num squared. The syntax for squaring a number is num ** 2.\n",
    "* Increment num."
   ]
  },
  {
   "cell_type": "code",
   "execution_count": 2,
   "metadata": {},
   "outputs": [
    {
     "name": "stdout",
     "output_type": "stream",
     "text": [
      "1\n",
      "4\n",
      "9\n",
      "16\n",
      "25\n",
      "36\n",
      "49\n",
      "64\n",
      "81\n",
      "100\n"
     ]
    }
   ],
   "source": [
    "num = 1\n",
    "\n",
    "while(num <= 10):\n",
    "    print(num **2)\n",
    "    num +=1"
   ]
  },
  {
   "cell_type": "markdown",
   "metadata": {},
   "source": [
    "## Simple errors\n",
    "A common application of a while loop is to check user input to see if it is valid. For example, if you ask the user to enter y or n and they instead enter 7, then you should re-prompt them for input.\n",
    "\n",
    "### Instructions\n",
    "1. Fill in the loop condition so the user will be prompted for a choice over and over while choice does not equal 'y' and choice does not equal 'n'."
   ]
  },
  {
   "cell_type": "code",
   "execution_count": 4,
   "metadata": {},
   "outputs": [
    {
     "name": "stdout",
     "output_type": "stream",
     "text": [
      "Enjoying the course? (y/n)'y'\n",
      "Sorry, I didn't catch that. Enter again: y\n"
     ]
    }
   ],
   "source": [
    "choice = input('Enjoying the course? (y/n)')\n",
    "\n",
    "while choice is not 'y' and choice is not 'n': \n",
    "  choice = input(\"Sorry, I didn't catch that. Enter again: \")"
   ]
  },
  {
   "cell_type": "markdown",
   "metadata": {},
   "source": [
    "## Infinite loops\n",
    "An infinite loop is a loop that never exits. This can happen for a few reasons:\n",
    "\n",
    "The loop condition cannot possibly be false (e.g. while 1 != 2)\n",
    "The logic of the loop prevents the loop condition from becoming false.\n",
    "Example:"
   ]
  },
  {
   "cell_type": "code",
   "execution_count": null,
   "metadata": {},
   "outputs": [],
   "source": [
    "\"\"\" DONT RUN! Infinte loop!\n",
    "count = 10\n",
    "while count > 0:\n",
    "  count += 1 # Instead of count -= 1\n",
    "  \"\"\""
   ]
  },
  {
   "cell_type": "markdown",
   "metadata": {},
   "source": [
    "### Instructions\n",
    "1. The loop in the editor has two problems: it’s missing a colon (a syntax error) and count is never incremented (logical error). The latter will result in an infinite loop, so be sure to fix both before running!"
   ]
  },
  {
   "cell_type": "code",
   "execution_count": 6,
   "metadata": {},
   "outputs": [
    {
     "name": "stdout",
     "output_type": "stream",
     "text": [
      "0\n",
      "1\n",
      "2\n",
      "3\n",
      "4\n",
      "5\n",
      "6\n",
      "7\n",
      "8\n",
      "9\n"
     ]
    }
   ],
   "source": [
    "count = 0\n",
    "\n",
    "while count < 10: # Add a colon\n",
    "  print (count)\n",
    "  count += 1\n",
    "  # Increment count"
   ]
  },
  {
   "cell_type": "markdown",
   "metadata": {},
   "source": [
    "## Break\n",
    "The break is a one-line statement that means “exit the current loop.” An alternate way to make our counting loop exit and stop executing is with the break statement.\n",
    "\n",
    "First, create a while with a condition that is always true. The simplest way is shown.\n",
    "Using an if statement, you define the stopping condition. Inside the if, you write break, meaning “exit the loop.”\n",
    "The difference here is that this loop is guaranteed to run at least once.\n",
    "\n",
    "### Instructions\n",
    "1. See what the break does? Feel free to mess around with it (but make sure you don’t cause an infinite loop)! Click Run when you’re ready to continue."
   ]
  },
  {
   "cell_type": "code",
   "execution_count": 9,
   "metadata": {},
   "outputs": [
    {
     "name": "stdout",
     "output_type": "stream",
     "text": [
      "0\n",
      "1\n",
      "2\n",
      "3\n",
      "4\n",
      "5\n",
      "6\n",
      "7\n",
      "8\n",
      "9\n"
     ]
    }
   ],
   "source": [
    "count = 0\n",
    "\n",
    "while True:\n",
    "    print (count)\n",
    "    count += 1\n",
    "    if count >= 10:\n",
    "        break"
   ]
  },
  {
   "cell_type": "markdown",
   "metadata": {},
   "source": [
    "## While / else\n",
    "Something completely different about Python is the while/else construction. while/else is similar to if/else, but there is a difference: the else block will execute anytime the loop condition is evaluated to False. This means that it will execute if the loop is never entered or if the loop exits normally. If the loop exits as the result of a break, the else will not be executed.\n",
    "\n",
    "In this example, the loop will break if a 5 is generated, and the else will not execute. Otherwise, after 3 numbers are generated, the loop condition will become false and the else will execute.\n",
    "\n",
    "### Instructions\n",
    "1. Click Run to see while/else in action!"
   ]
  },
  {
   "cell_type": "code",
   "execution_count": 14,
   "metadata": {},
   "outputs": [
    {
     "name": "stdout",
     "output_type": "stream",
     "text": [
      "Lucky Numbers! 3 numbers will be generated.\n",
      "If one of them is a '5', you lose!\n",
      "6\n",
      "6\n",
      "4\n",
      "You win!\n"
     ]
    }
   ],
   "source": [
    "import random\n",
    "\n",
    "print (\"Lucky Numbers! 3 numbers will be generated.\")\n",
    "print (\"If one of them is a '5', you lose!\")\n",
    "\n",
    "count = 0\n",
    "while count < 3:\n",
    "    num = random.randint(1, 6)\n",
    "    print (num)\n",
    "    if num == 5:\n",
    "        print (\"Sorry, you lose!\")\n",
    "        break\n",
    "    count += 1\n",
    "else:\n",
    "    print (\"You win!\")"
   ]
  },
  {
   "cell_type": "markdown",
   "metadata": {},
   "source": [
    "## Your own while / else\n",
    "Now you should be able to make a game similar to the one in the last exercise. The code from the last exercise is below:"
   ]
  },
  {
   "cell_type": "code",
   "execution_count": 15,
   "metadata": {},
   "outputs": [
    {
     "name": "stdout",
     "output_type": "stream",
     "text": [
      "2\n",
      "3\n",
      "4\n",
      "You win!\n"
     ]
    }
   ],
   "source": [
    "count = 0\n",
    "while count < 3:\n",
    "  num = random.randint(1, 6)\n",
    "  print (num)\n",
    "  if num == 5:\n",
    "    print (\"Sorry, you lose!\")\n",
    "    break\n",
    "  count += 1\n",
    "else:\n",
    "  print (\"You win!\")"
   ]
  },
  {
   "cell_type": "markdown",
   "metadata": {},
   "source": [
    "In this exercise, allow the user to guess what the number is 3 times."
   ]
  },
  {
   "cell_type": "code",
   "execution_count": null,
   "metadata": {},
   "outputs": [],
   "source": [
    "guess = int(input(\"Your guess: \"))"
   ]
  },
  {
   "cell_type": "markdown",
   "metadata": {},
   "source": [
    "Remember, input turns user input into a string, so we use int() to make it a number again.\n",
    "\n",
    "### Instructions\n",
    "1. Use a while loop to let the user keep guessing so long as guesses_left is greater than zero.\n",
    "\n",
    "Ask the user for their guess, just like the second example above.\n",
    "\n",
    "If they guess correctly, print \"You win!\" and break.\n",
    "\n",
    "Decrement guesses_left by one.\n",
    "\n",
    "Use an else: case after your while loop to print \"You lose.\"."
   ]
  },
  {
   "cell_type": "code",
   "execution_count": 17,
   "metadata": {},
   "outputs": [
    {
     "name": "stdout",
     "output_type": "stream",
     "text": [
      "Guess a number between 1 and 10: 1\n",
      "Guess a number between 1 and 10: 2\n",
      "Guess a number between 1 and 10: 4\n",
      "You Lose!\n"
     ]
    }
   ],
   "source": [
    "from random import randint\n",
    "\n",
    "# Generates a number from 1 through 10 inclusive\n",
    "random_number = randint(1, 10)\n",
    "\n",
    "guesses_left = 3\n",
    "# Start your game!\n",
    "\n",
    "while guesses_left > 0:\n",
    "    guess = input(\"Guess a number between 1 and 10: \")\n",
    "    if guess == random_number: \n",
    "        print (\"You win!\")\n",
    "        break\n",
    "    else:\n",
    "        guesses_left -= 1\n",
    "else:\n",
    "    print(\"You Lose!\")"
   ]
  },
  {
   "cell_type": "markdown",
   "metadata": {},
   "source": [
    "## For your health\n",
    "An alternative way to loop is the for loop. The syntax is as shown in the code editor. This example means “for each number i in the range 0 - 9, print i“.\n",
    "\n",
    "### Instructions\n",
    "1. Make the loop print the numbers from 0 to 19 instead of 0 to 9."
   ]
  },
  {
   "cell_type": "code",
   "execution_count": 18,
   "metadata": {},
   "outputs": [
    {
     "name": "stdout",
     "output_type": "stream",
     "text": [
      "Counting...\n",
      "0\n",
      "1\n",
      "2\n",
      "3\n",
      "4\n",
      "5\n",
      "6\n",
      "7\n",
      "8\n",
      "9\n",
      "10\n",
      "11\n",
      "12\n",
      "13\n",
      "14\n",
      "15\n",
      "16\n",
      "17\n",
      "18\n",
      "19\n"
     ]
    }
   ],
   "source": [
    "print (\"Counting...\")\n",
    "\n",
    "for i in range(20):\n",
    "  print (i)\n",
    "  "
   ]
  },
  {
   "cell_type": "markdown",
   "metadata": {},
   "source": [
    "## For your hobbies\n",
    "This kind of loop is useful when you want to do something a certain number of times, such as append something to the end of a list.\n",
    "\n",
    "### Instructions\n",
    "1. Create a for loop that prompts the user for a hobby 3 times.\n",
    "\n",
    "* Save the result of each prompt in a hobby variable\n",
    "\n",
    "* append each one to hobbies.\n",
    "\n",
    "* print hobbies after your for loop\n",
    "\n",
    "Make sure to answer the prompts in the terminal when testing your code!"
   ]
  },
  {
   "cell_type": "code",
   "execution_count": 19,
   "metadata": {},
   "outputs": [
    {
     "name": "stdout",
     "output_type": "stream",
     "text": [
      "Tell me one of your hobbies...chillin\n",
      "Tell me one of your hobbies...chaps\n",
      "Tell me one of your hobbies...quarters\n",
      "['chillin', 'chaps', 'quarters']\n"
     ]
    }
   ],
   "source": [
    "hobbies = []\n",
    "\n",
    "for i in range(3):\n",
    "    hobby = input(\"Tell me one of your hobbies...\")\n",
    "    hobbies.append(hobby)\n",
    "print(hobbies)"
   ]
  },
  {
   "cell_type": "markdown",
   "metadata": {},
   "source": [
    "## For your strings\n",
    "Using a for loop, you can print out each individual character in a string.\n",
    "\n",
    "The example in the editor is almost plain English: “for each character c in thing, print c“.\n",
    "\n",
    "### Instructions\n",
    "1. Add a second for loop so that each character in word is printed one at a time."
   ]
  },
  {
   "cell_type": "code",
   "execution_count": 20,
   "metadata": {},
   "outputs": [
    {
     "name": "stdout",
     "output_type": "stream",
     "text": [
      "s\n",
      "p\n",
      "a\n",
      "m\n",
      "!\n",
      "g\n",
      "g\n",
      "s\n",
      "!\n"
     ]
    }
   ],
   "source": [
    "thing = \"spam!\"\n",
    "\n",
    "for c in thing:\n",
    "  print (c)\n",
    "\n",
    "word = \"eggs!\"\n",
    "\n",
    "# Your code here!\n",
    "for i in range(0, len(word)):\n",
    "    print(word[i])"
   ]
  },
  {
   "cell_type": "markdown",
   "metadata": {},
   "source": [
    "## For your A\n",
    "String manipulation is useful in for loops if you want to modify some content in a string."
   ]
  },
  {
   "cell_type": "code",
   "execution_count": 21,
   "metadata": {},
   "outputs": [
    {
     "name": "stdout",
     "output_type": "stream",
     "text": [
      "M\n",
      "a\n",
      "r\n",
      "b\n",
      "l\n",
      "e\n"
     ]
    }
   ],
   "source": [
    "word = \"Marble\"\n",
    "for char in word:\n",
    "  print (char,)"
   ]
  },
  {
   "cell_type": "markdown",
   "metadata": {},
   "source": [
    "## The example above iterates through each character in word and, in the end, prints out M a r b l e.\n",
    "\n",
    "The , character after our print statement means that our next print statement keeps printing on the same line.\n",
    "\n",
    "### Instructions\n",
    "1. Let’s filter out the letter \"A\" from our string.\n",
    "\n",
    "* Do the following for each character in the phrase.\n",
    "* If char is an \"A\" or char is an \"a\", print \"X\", instead of char. Make sure to include the trailing comma.\n",
    "* Otherwise (else:), please print char, with the trailing comma."
   ]
  },
  {
   "cell_type": "code",
   "execution_count": 24,
   "metadata": {},
   "outputs": [
    {
     "name": "stdout",
     "output_type": "stream",
     "text": [
      "X \n",
      "  b i r d   i n   t h e   h X \n",
      "n d . . . "
     ]
    },
    {
     "data": {
      "text/plain": [
       "<function print>"
      ]
     },
     "execution_count": 24,
     "metadata": {},
     "output_type": "execute_result"
    }
   ],
   "source": [
    "phrase = \"A bird in the hand...\"\n",
    "\n",
    "# Add your for loop\n",
    "for char in phrase:\n",
    "    if char.lower() == 'a':\n",
    "        print ('X ')\n",
    "    else:\n",
    "        print (char, end = \" \")\n",
    "\n",
    "\n",
    "\n",
    "\n",
    "#Don't delete this print statement!\n",
    "print"
   ]
  },
  {
   "cell_type": "markdown",
   "metadata": {},
   "source": [
    "## For your lists\n",
    "Perhaps the most useful (and most common) use of for loops is to go through a list.\n",
    "\n",
    "On each iteration, the variable num will be the next value in the list. So, the first time through, it will be 7, the second time it will be 9, then 12, 54, 99, and then the loop will exit when there are no more values in the list.\n",
    "\n",
    "### Instructions\n",
    "1. Write a second for loop that goes through the numbers list and prints each element squared, each on its own line."
   ]
  },
  {
   "cell_type": "code",
   "execution_count": 26,
   "metadata": {},
   "outputs": [
    {
     "name": "stdout",
     "output_type": "stream",
     "text": [
      "This list contains: \n",
      "7\n",
      "9\n",
      "12\n",
      "54\n",
      "99\n",
      "49\n",
      "81\n",
      "144\n",
      "2916\n",
      "9801\n"
     ]
    }
   ],
   "source": [
    "numbers  = [7, 9, 12, 54, 99]\n",
    "\n",
    "print (\"This list contains: \")\n",
    "\n",
    "for num in numbers:\n",
    "    print (num)\n",
    "\n",
    "for num in numbers:\n",
    "    print (num ** 2)\n",
    "\n",
    "# Add your loop below!"
   ]
  },
  {
   "cell_type": "markdown",
   "metadata": {},
   "source": [
    "## Looping over a dictionary\n",
    "You may be wondering how looping over a dictionary would work. Would you get the key or the value?\n",
    "\n",
    "The short answer is: you get the key which you can use to get the value."
   ]
  },
  {
   "cell_type": "code",
   "execution_count": 27,
   "metadata": {},
   "outputs": [
    {
     "name": "stdout",
     "output_type": "stream",
     "text": [
      "This dictionary has the value 10!\n"
     ]
    }
   ],
   "source": [
    "d = {'x': 9, 'y': 10, 'z': 20}\n",
    "for key in d:\n",
    "    if d[key] == 10:\n",
    "        print (\"This dictionary has the value 10!\")"
   ]
  },
  {
   "cell_type": "markdown",
   "metadata": {},
   "source": [
    "1. First, we create a dictionary with strings as the keys and numbers as the values.\n",
    "2. Then, we iterate through the dictionary, each time storing the key in key.\n",
    "3. Next, we check if that key’s value is equal to 10.\n",
    "4. If so, we print \"This dictionary has the value 10!\"\n",
    "\n",
    "### Instructions\n",
    "1. On line 5, print the key, followed by a space, followed by the value associated with that key."
   ]
  },
  {
   "cell_type": "code",
   "execution_count": 29,
   "metadata": {},
   "outputs": [
    {
     "name": "stdout",
     "output_type": "stream",
     "text": [
      "a apple\n",
      "b berry\n",
      "c cherry\n"
     ]
    }
   ],
   "source": [
    "d = {'a': 'apple', 'b': 'berry', 'c': 'cherry'}\n",
    "\n",
    "for key in d:\n",
    "    print(key, d[key])"
   ]
  },
  {
   "cell_type": "markdown",
   "metadata": {},
   "source": [
    "## Counting as you go\n",
    "A weakness of using this for-each style of iteration is that you don’t know the index of the thing you’re looking at. Generally this isn’t an issue, but at times it is useful to know how far into the list you are. Thankfully the built-in enumerate function helps with this.\n",
    "\n",
    "enumerate works by supplying a corresponding index to each element in the list that you pass it. Each time you go through the loop, index will be one greater, and item will be the next item in the sequence. It’s very similar to using a normal for loop with a list, except this gives us an easy way to count how many items we’ve seen so far.\n",
    "\n",
    "### Instructions\n",
    "1. We don’t want the user to see things listed from index 0, since this looks unnatural. Instead, the items should appear to start at index 1. Modify the print statement to reflect this behavior. See the Hint for help."
   ]
  },
  {
   "cell_type": "code",
   "execution_count": 33,
   "metadata": {},
   "outputs": [
    {
     "name": "stdout",
     "output_type": "stream",
     "text": [
      "Your choices are:\n",
      "1 pizza\n",
      "2 pasta\n",
      "3 salad\n",
      "4 nachos\n"
     ]
    }
   ],
   "source": [
    "choices = ['pizza', 'pasta', 'salad', 'nachos']\n",
    "\n",
    "print ('Your choices are:')\n",
    "for index, item in enumerate(choices):\n",
    "  print (index + 1, item)"
   ]
  },
  {
   "cell_type": "markdown",
   "metadata": {},
   "source": [
    "## Multiple lists\n",
    "It’s also common to need to iterate over two lists at once. This is where the built-in zip function comes in handy.\n",
    "\n",
    "zip will create pairs of elements when passed two lists, and will stop at the end of the shorter list.\n",
    "\n",
    "zip can handle three or more lists as well!\n",
    "\n",
    "### Instructions\n",
    "1. Compare each pair of elements and print the larger of the two."
   ]
  },
  {
   "cell_type": "code",
   "execution_count": 34,
   "metadata": {},
   "outputs": [
    {
     "name": "stdout",
     "output_type": "stream",
     "text": [
      "3\n",
      "9\n",
      "17\n",
      "15\n",
      "30\n"
     ]
    }
   ],
   "source": [
    "list_a = [3, 9, 17, 15, 19]\n",
    "list_b = [2, 4, 8, 10, 30, 40, 50, 60, 70, 80, 90]\n",
    "\n",
    "for a, b in zip(list_a, list_b):\n",
    "  # Add your code here!\n",
    "    if a > b:\n",
    "        print (a)\n",
    "    else:\n",
    "        print (b)"
   ]
  },
  {
   "cell_type": "markdown",
   "metadata": {},
   "source": [
    "## For / else\n",
    "Just like with while, for loops may have an else associated with them.\n",
    "\n",
    "In this case, the else statement is executed after the for, but only if the for ends normally—that is, not with a break. This code will break when it hits 'tomato', so the else block won’t be executed.\n",
    "\n",
    "### Instructions\n",
    "1. Click Run to see how for and else work together."
   ]
  },
  {
   "cell_type": "code",
   "execution_count": 36,
   "metadata": {},
   "outputs": [
    {
     "name": "stdout",
     "output_type": "stream",
     "text": [
      "You have...\n",
      "A banana\n",
      "A apple\n",
      "A orange\n",
      "A tomato is not a fruit!\n"
     ]
    }
   ],
   "source": [
    "fruits = ['banana', 'apple', 'orange', 'tomato', 'pear', 'grape']\n",
    "\n",
    "print ('You have...')\n",
    "for f in fruits:\n",
    "  if f == 'tomato':\n",
    "    print ('A tomato is not a fruit!') # (It actually is.)\n",
    "    break\n",
    "  print ('A', f)\n",
    "else:\n",
    "  print ('A fine selection of fruits!')"
   ]
  },
  {
   "cell_type": "markdown",
   "metadata": {},
   "source": [
    "## Change it up\n",
    "As mentioned, the else block won’t run in this case, since break executes when it hits 'tomato'.\n",
    "\n",
    "### Instructions\n",
    "1. Modify the code in the editor such that the for loop’s else statement is executed."
   ]
  },
  {
   "cell_type": "code",
   "execution_count": null,
   "metadata": {},
   "outputs": [],
   "source": [
    "fruits = ['banana', 'apple', 'orange', 'tomato', 'pear', 'grape']\n",
    "\n",
    "print ('You have...')\n",
    "for f in fruits:\n",
    "  if f == 'tomato':\n",
    "    print ('A tomato is not a fruit!') # (It actually is.)\n",
    "    # break\n",
    "  print ('A', f)\n",
    "else:\n",
    "  print ('A fine selection of fruits!')"
   ]
  },
  {
   "cell_type": "markdown",
   "metadata": {},
   "source": [
    "## Create your own\n",
    "To wrap up this lesson, let’s create our own for/else statement from scratch.\n",
    "\n",
    "### Instructions\n",
    "1. Build your for/else statement in the editor. Execution of the else branch is optional, but your code should print a string of your choice to the editor regardless."
   ]
  },
  {
   "cell_type": "code",
   "execution_count": 37,
   "metadata": {},
   "outputs": [
    {
     "name": "stdout",
     "output_type": "stream",
     "text": [
      "Do you even really care?\n",
      "Do you even really care?\n",
      "Do you even really care?\n",
      "i is currently 3\n",
      "Do you even really care?\n"
     ]
    }
   ],
   "source": [
    "for i in range(0,5):\n",
    "  if i == 3:\n",
    "    print ('i is currently 3')\n",
    "  else:\n",
    "    print ('Do you even really care?')"
   ]
  },
  {
   "cell_type": "code",
   "execution_count": null,
   "metadata": {},
   "outputs": [],
   "source": []
  }
 ],
 "metadata": {
  "kernelspec": {
   "display_name": "Python 3",
   "language": "python",
   "name": "python3"
  },
  "language_info": {
   "codemirror_mode": {
    "name": "ipython",
    "version": 3
   },
   "file_extension": ".py",
   "mimetype": "text/x-python",
   "name": "python",
   "nbconvert_exporter": "python",
   "pygments_lexer": "ipython3",
   "version": "3.7.3"
  }
 },
 "nbformat": 4,
 "nbformat_minor": 2
}
