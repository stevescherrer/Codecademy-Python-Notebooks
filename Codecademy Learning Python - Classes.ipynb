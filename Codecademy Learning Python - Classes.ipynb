{
 "cells": [
  {
   "cell_type": "markdown",
   "metadata": {},
   "source": [
    "## Class basics\n",
    "Classes can be very useful for storing complicated objects with their own methods and variables. Defining a class is much like defining a function, but we use the class keyword instead. We also use the word object in parentheses because we want our classes to inherit the object class. This means that our class has all the properties of an object, which is the simplest, most basic class. Later we’ll see that classes can inherit other, more complicated classes. An empty class would look like this:"
   ]
  },
  {
   "cell_type": "code",
   "execution_count": null,
   "metadata": {},
   "outputs": [],
   "source": [
    "class ClassName(object):\n",
    "  # class statements go here"
   ]
  },
  {
   "cell_type": "markdown",
   "metadata": {},
   "source": [
    "### Instructions\n",
    "1. Define a new class named “Car”. For now, since we have to put something inside the class, use the pass keyword."
   ]
  },
  {
   "cell_type": "code",
   "execution_count": 1,
   "metadata": {},
   "outputs": [],
   "source": [
    "class Car(object):\n",
    "    pass"
   ]
  },
  {
   "cell_type": "markdown",
   "metadata": {},
   "source": [
    "## Create an instance of a class\n",
    "We can use classes to create new objects, which we say are instances of those classes.\n",
    "\n",
    "Creating a new instance of a class is as easy as saying:"
   ]
  },
  {
   "cell_type": "code",
   "execution_count": null,
   "metadata": {},
   "outputs": [],
   "source": [
    "newObject = ClassName()"
   ]
  },
  {
   "cell_type": "markdown",
   "metadata": {},
   "source": [
    "### Instructions\n",
    "1. Below your Car class, create a new object named my_car that is an instance of Car."
   ]
  },
  {
   "cell_type": "code",
   "execution_count": 2,
   "metadata": {},
   "outputs": [],
   "source": [
    "my_car = Car()"
   ]
  },
  {
   "cell_type": "markdown",
   "metadata": {},
   "source": [
    "## Class member variables\n",
    "Classes can have member variables that store information about each class object. We call them member variables since they are information that belongs to the class object.\n",
    "\n",
    "Creating member variables and assigning them initial values is as easy as creating any other variable:"
   ]
  },
  {
   "cell_type": "code",
   "execution_count": null,
   "metadata": {},
   "outputs": [],
   "source": [
    "class ClassName(object):\n",
    "    memberVariable = \"initialValue\""
   ]
  },
  {
   "cell_type": "markdown",
   "metadata": {},
   "source": [
    "### Instructions\n",
    "1. Inside your Car class, replace the pass statement with a new member variable named condition and give it an initial value of the string \"new\"."
   ]
  },
  {
   "cell_type": "code",
   "execution_count": 3,
   "metadata": {},
   "outputs": [],
   "source": [
    "class Car(object):\n",
    "    condition = \"new\""
   ]
  },
  {
   "cell_type": "markdown",
   "metadata": {},
   "source": [
    "## Calling class member variables\n",
    "Each class object we create has its own set of member variables. Since we’ve created an object my_car that is an instance of the Car class, my_car should already have a member variable named condition. This attribute gets assigned a value as soon as my_car is created.\n",
    "\n",
    "### Instructions\n",
    "1. At the end of your code, use a print statement to display the condition of my_car."
   ]
  },
  {
   "cell_type": "code",
   "execution_count": 4,
   "metadata": {},
   "outputs": [
    {
     "name": "stdout",
     "output_type": "stream",
     "text": [
      "new\n"
     ]
    }
   ],
   "source": [
    "my_car = Car()\n",
    "print (my_car.condition)"
   ]
  },
  {
   "cell_type": "markdown",
   "metadata": {},
   "source": [
    "## Initializing a class\n",
    "There is a special function named __init__() that gets called whenever we create a new instance of a class. It exists by default, even though we don’t see it. However, we can define our own __init__() function inside the class, overwriting the default version. We might want to do this in order to provide more input variables, just like we would with any other function.\n",
    "\n",
    "The first argument passed to __init__() must always be the keyword self - this is how the object keeps track of itself internally - but we can pass additional variables after that.\n",
    "\n",
    "In order to assign a variable to the class (creating a member variable), we use dot notation. For instance, if we passed newVariable into our class, inside the __init__() function we would say:"
   ]
  },
  {
   "cell_type": "code",
   "execution_count": null,
   "metadata": {},
   "outputs": [],
   "source": [
    "self.new_variable = new_variable"
   ]
  },
  {
   "cell_type": "markdown",
   "metadata": {},
   "source": [
    "### Instructions\n",
    "1. Define the __init__() function of the Car class to take four inputs: self, model, color, and mpg. Assign the last three inputs to member variables of the same name by using the self keyword.\n",
    "\n",
    "Then, modify the object my_car to provide the following inputs at initialization:\n",
    "\n",
    "model = \"DeLorean\"\n",
    "color = \"silver\"\n",
    "mpg = 88\n",
    "You don’t need to include the self keyword when you create an instance of a class, because self gets added to the beginning of your list of inputs automatically by the class definition."
   ]
  },
  {
   "cell_type": "code",
   "execution_count": 7,
   "metadata": {},
   "outputs": [],
   "source": [
    "class Car(object):\n",
    "    condition = \"new\"\n",
    "    def __init__(self, model, color, mpg):\n",
    "        self.model = model\n",
    "        self.color = color\n",
    "        self.mpg = mpg\n",
    "\n",
    "my_car = Car(model = \"DeLorean\", color = \"silver\", mpg = 88)"
   ]
  },
  {
   "cell_type": "markdown",
   "metadata": {},
   "source": [
    "## Referring to member variables\n",
    "Calling class member variables works the same whether those values are created within the class (like our car’s condition) or values are passed into the new object at initialization. We use dot notation to access the member variables of classes since those variables belong to the object.\n",
    "\n",
    "For instance, if we had created a member variable named new_variable, a new instance of the class named new_object could access this variable by saying:"
   ]
  },
  {
   "cell_type": "code",
   "execution_count": null,
   "metadata": {},
   "outputs": [],
   "source": [
    "new_object.new_variable"
   ]
  },
  {
   "cell_type": "markdown",
   "metadata": {},
   "source": [
    "### Instructions\n",
    "1. Now that you’ve created my_car print its member variables:\n",
    "\n",
    "* First print the model of my_car. Click “Stuck? Get a hint!” for an example.\n",
    "* Then print out the color of my_car.\n",
    "* Then print out the mpg of my_car."
   ]
  },
  {
   "cell_type": "code",
   "execution_count": 9,
   "metadata": {},
   "outputs": [
    {
     "name": "stdout",
     "output_type": "stream",
     "text": [
      "DeLorean\n",
      "silver\n",
      "88\n"
     ]
    }
   ],
   "source": [
    "print (my_car.model)\n",
    "print (my_car.color)\n",
    "print (my_car.mpg)"
   ]
  },
  {
   "cell_type": "markdown",
   "metadata": {},
   "source": [
    "## Creating class methods\n",
    "Besides member variables, classes can also have their own methods. For example:"
   ]
  },
  {
   "cell_type": "code",
   "execution_count": null,
   "metadata": {},
   "outputs": [],
   "source": [
    "class Square(object):\n",
    "  def __init__(self, side):\n",
    "    self.side = side\n",
    "\n",
    "  def perimeter(self):\n",
    "    return self.side * 4"
   ]
  },
  {
   "cell_type": "markdown",
   "metadata": {},
   "source": [
    "The perimeter() class method is identical to defining any other function, except that it is written inside of the Square class definition.\n",
    "\n",
    "Just like when we defined __init__(), you need to provide self as the first argument of any class method.\n",
    "\n",
    "### Instructions\n",
    "1. Inside the Car class, add a method named display_car to Car that will reference the Car’s member variables to return the string, \"This is a [color] [model] with [mpg] MPG.\" You can use the str() function to turn your mpg into a string when creating the display string.\n",
    "\n",
    "Replace the individual print statements with a single print command that displays the result of calling my_car.display_car()"
   ]
  },
  {
   "cell_type": "code",
   "execution_count": 10,
   "metadata": {},
   "outputs": [
    {
     "name": "stdout",
     "output_type": "stream",
     "text": [
      "This is a silver DeLorean with 88 MPG.\n",
      "None\n"
     ]
    }
   ],
   "source": [
    "class Car(object):\n",
    "    condition = \"new\"\n",
    "    def __init__(self, model, color, mpg):\n",
    "        self.model = model\n",
    "        self.color = color\n",
    "        self.mpg = mpg\n",
    "    \n",
    "    def display_car(self):\n",
    "        print (\"This is a {} {} with {} MPG.\".format(self.color, self.model, str(self.mpg)))\n",
    "        \n",
    "my_car = Car(model = \"DeLorean\", color = \"silver\", mpg = 88)\n",
    "print(my_car.display_car())"
   ]
  },
  {
   "cell_type": "markdown",
   "metadata": {},
   "source": [
    "## Modifying member variables\n",
    "We can modify variables that belong to a class the same way that we initialize those member variables. This can be useful when we want to change the value a variable takes on based on something that happens inside of a class method.\n",
    "\n",
    "### Instructions\n",
    "1. Inside the Car class, add a method drive_car that sets self.condition to the string \"used\".\n",
    "\n",
    "* Remove the call to my_car.display_car() and instead print only the condition of your car.\n",
    "\n",
    "* Then drive your car by calling the drive_car method.\n",
    "\n",
    "* Finally, print the condition of your car again to see how its value changes."
   ]
  },
  {
   "cell_type": "code",
   "execution_count": 13,
   "metadata": {},
   "outputs": [
    {
     "name": "stdout",
     "output_type": "stream",
     "text": [
      "new\n",
      "used\n"
     ]
    }
   ],
   "source": [
    "class Car(object):\n",
    "    condition = \"new\"\n",
    "    \n",
    "    def __init__(self, model, color, mpg):\n",
    "        self.model = model\n",
    "        self.color = color\n",
    "        self.mpg = mpg\n",
    "    \n",
    "    def display_car(self):\n",
    "        print (\"This is a {} {} with {} MPG.\".format(self.color, self.model, str(self.mpg)))\n",
    "        \n",
    "    def drive_car(self):\n",
    "        self.condition = \"used\"\n",
    "        \n",
    "my_car = Car(model = \"DeLorean\", color = \"silver\", mpg = 88)\n",
    "\n",
    "print(my_car.condition)\n",
    "my_car.drive_car()\n",
    "\n",
    "print(my_car.condition)"
   ]
  },
  {
   "cell_type": "markdown",
   "metadata": {},
   "source": [
    "## Inheritance\n",
    "One of the benefits of classes is that we can create more complicated classes that inherit variables or methods from their parent classes. This saves us time and helps us build more complicated objects, since these child classes can also include additional variables or methods.\n",
    "\n",
    "We define a “child” class that inherits all of the variables and functions from its “parent” class like so:"
   ]
  },
  {
   "cell_type": "code",
   "execution_count": null,
   "metadata": {},
   "outputs": [],
   "source": [
    "class ChildClass(ParentClass):\n",
    "  # new variables and functions go here"
   ]
  },
  {
   "cell_type": "markdown",
   "metadata": {},
   "source": [
    "Normally we use object as the parent class because it is the most basic type of class, but by specifying a different class, we can inherit more complicated functionality.\n",
    "\n",
    "### Instructions\n",
    "1. Create a class ElectricCar that inherits from Car. Give your new class an __init__() method of that includes a battery_type member variable in addition to the model, color and mpg.\n",
    "\n",
    "Then, create an electric car named my_car with a \"molten salt\" battery_type. Supply values of your choice for the other three inputs (model, color and mpg)."
   ]
  },
  {
   "cell_type": "code",
   "execution_count": 17,
   "metadata": {},
   "outputs": [
    {
     "name": "stdout",
     "output_type": "stream",
     "text": [
      "silver\n"
     ]
    }
   ],
   "source": [
    "class ElectricCar(Car):\n",
    "    \n",
    "    def __init__(self, model, color, mpg, battery_type):\n",
    "        self.battery_type = battery_type\n",
    "        self.model = model\n",
    "        self.color = color\n",
    "        self.mpg = mpg\n",
    "        \n",
    "my_car = ElectricCar(model = \"DeLorean\", color = \"silver\", mpg = 88, battery_type = \"molten salt\")\n"
   ]
  },
  {
   "cell_type": "markdown",
   "metadata": {},
   "source": [
    "## Overriding methods\n",
    "Since our ElectricCar is a more specialized type of Car, we can give the ElectricCar its own drive_car() method that has different functionality than the original Car class’s.\n",
    "\n",
    "### Instructions\n",
    "1. Inside ElectricCar add a new method drive_car that changes the car’s condition to the string \"like new\".\n",
    "\n",
    "Then, outside of ElectricCar, print the condition of my_car\n",
    "\n",
    "Next, drive my_car by calling the drive_car function\n",
    "\n",
    "Finally, print the condition of my_car again"
   ]
  },
  {
   "cell_type": "code",
   "execution_count": 18,
   "metadata": {},
   "outputs": [
    {
     "name": "stdout",
     "output_type": "stream",
     "text": [
      "new\n",
      "like new\n"
     ]
    }
   ],
   "source": [
    "class ElectricCar(Car):\n",
    "    \n",
    "    def __init__(self, model, color, mpg, battery_type):\n",
    "        self.battery_type = battery_type\n",
    "        self.model = model\n",
    "        self.color = color\n",
    "        self.mpg = mpg\n",
    "    \n",
    "    def drive_car(self):\n",
    "        self.condition = \"like new\"\n",
    "        \n",
    "my_car = ElectricCar(model = \"DeLorean\", color = \"silver\", mpg = 88, battery_type = \"molten salt\")\n",
    "\n",
    "print (my_car.condition)\n",
    "\n",
    "my_car.drive_car()\n",
    "\n",
    "print (my_car.condition)"
   ]
  },
  {
   "cell_type": "markdown",
   "metadata": {},
   "source": [
    "## Building useful classes\n",
    "Chances are, you won’t be designing Car classes in the real world anytime soon. Usually, classes are most useful for holding and accessing abstract collections of data.\n",
    "\n",
    "One useful class method to override is the built-in __repr__() method, which is short for representation; by providing a return value in this method, we can tell Python how to represent an object of our class (for instance, when using a print statement).\n",
    "\n",
    "### Instructions\n",
    "1. Define a Point3D class that inherits from object\n",
    "\n",
    "* Inside the Point3D class, define an __init__() function that accepts self, x, y, and z, and assigns these numbers to the member variables self.x, self.y, self.z\n",
    "\n",
    "* Define a __repr__() method that returns \"(%d, %d, %d)\" % (self.x, self.y, self.z). This tells Python to represent this object in the following format: (x, y, z).\n",
    "\n",
    "* Outside the class definition, create a variable named my_point containing a new instance of Point3D with x=1, y=2, and z=3.\n",
    "\n",
    "* Finally, print my_point."
   ]
  },
  {
   "cell_type": "code",
   "execution_count": 27,
   "metadata": {},
   "outputs": [
    {
     "name": "stdout",
     "output_type": "stream",
     "text": [
      "(1, 2, 3)\n"
     ]
    }
   ],
   "source": [
    "class Point3D(object):\n",
    "    def __init__(self, x, y, z):\n",
    "        self.x = x\n",
    "        self.y = y\n",
    "        self.z = z\n",
    "        \n",
    "    def __repr__(self):\n",
    "        return \"({}, {}, {})\".format(self.x, self.y, self.z)\n",
    "\n",
    "my_point = Point3D(x = 1, y = 2, z = 3)\n",
    "\n",
    "print(my_point)"
   ]
  },
  {
   "cell_type": "code",
   "execution_count": null,
   "metadata": {},
   "outputs": [],
   "source": []
  }
 ],
 "metadata": {
  "kernelspec": {
   "display_name": "Python 3",
   "language": "python",
   "name": "python3"
  },
  "language_info": {
   "codemirror_mode": {
    "name": "ipython",
    "version": 3
   },
   "file_extension": ".py",
   "mimetype": "text/x-python",
   "name": "python",
   "nbconvert_exporter": "python",
   "pygments_lexer": "ipython3",
   "version": "3.7.3"
  }
 },
 "nbformat": 4,
 "nbformat_minor": 2
}
